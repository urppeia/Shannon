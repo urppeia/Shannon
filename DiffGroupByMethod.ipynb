{
 "cells": [
  {
   "cell_type": "code",
   "execution_count": 9,
   "id": "f38e9e3d-b4a0-436e-b8a1-c31f5331f6f9",
   "metadata": {
    "execution": {
     "iopub.execute_input": "2024-04-09T11:14:40.656232Z",
     "iopub.status.busy": "2024-04-09T11:14:40.655995Z",
     "iopub.status.idle": "2024-04-09T11:14:41.303845Z",
     "shell.execute_reply": "2024-04-09T11:14:41.303380Z",
     "shell.execute_reply.started": "2024-04-09T11:14:40.656216Z"
    }
   },
   "outputs": [
    {
     "name": "stdout",
     "output_type": "stream",
     "text": [
      "Differences between file1 and file2:\n",
      "       JSD_bit_       HMIX_bit_        diff_JSD\n",
      "           self other      self  other         \n",
      "0         0.000   NaN       NaN    NaN      NaN\n",
      "1         0.000   NaN       NaN    NaN      NaN\n",
      "2         0.409   NaN     0.482  0.696      NaN\n",
      "3         0.409   NaN     0.482  0.696      NaN\n",
      "4         0.000   NaN       NaN    NaN      NaN\n",
      "...         ...   ...       ...    ...      ...\n",
      "612284    0.000   NaN       NaN    NaN      NaN\n",
      "612285    0.000   NaN       NaN    NaN      NaN\n",
      "612286    0.000   NaN       NaN    NaN      NaN\n",
      "612287    0.000   NaN       NaN    NaN      NaN\n",
      "612288    0.000   NaN       NaN    NaN      NaN\n",
      "\n",
      "[605452 rows x 5 columns]\n"
     ]
    }
   ],
   "source": [
    "import pandas as pd\n",
    "\n",
    "# Read CSV files\n",
    "df1 = pd.read_csv('/shares/grossniklaus.botinst.uzh/eharputluoglu/shannonFiles3/output_metadata_CHG.Col-0.wt.endosperm.csv', sep = \"\\t\")\n",
    "df2 = pd.read_csv('out.csv', sep = \"\\t\")\n",
    "\n",
    "# Compare dataframes\n",
    "diff = df1.compare(df2)\n",
    "\n",
    "diff[\"diff_JSD\"] = df2[\"JSD_bit_\"] - df1[\"JSD_bit_\"]\n",
    "\n",
    "# Print the differences\n",
    "print(\"Differences between file1 and file2:\")\n",
    "print(diff)"
   ]
  },
  {
   "cell_type": "code",
   "execution_count": null,
   "id": "25d7ec91-302f-4fee-973e-7f7e149072e7",
   "metadata": {},
   "outputs": [],
   "source": []
  },
  {
   "cell_type": "code",
   "execution_count": 2,
   "id": "1e4ab3a1-6b43-4d3f-a3e3-01e7b4420698",
   "metadata": {
    "execution": {
     "iopub.execute_input": "2024-04-09T10:59:11.250193Z",
     "iopub.status.busy": "2024-04-09T10:59:11.250057Z",
     "iopub.status.idle": "2024-04-09T10:59:11.258254Z",
     "shell.execute_reply": "2024-04-09T10:59:11.257734Z",
     "shell.execute_reply.started": "2024-04-09T10:59:11.250180Z"
    }
   },
   "outputs": [
    {
     "data": {
      "text/plain": [
       "64        0.273\n",
       "475       0.193\n",
       "580       0.008\n",
       "738       0.233\n",
       "842       0.180\n",
       "          ...  \n",
       "606375    0.273\n",
       "609736    0.248\n",
       "609737    0.202\n",
       "609870    0.180\n",
       "610200    0.248\n",
       "Name: diff_JSD, Length: 2577, dtype: float64"
      ]
     },
     "execution_count": 2,
     "metadata": {},
     "output_type": "execute_result"
    }
   ],
   "source": [
    "diff[\"diff_JSD\"].dropna()"
   ]
  },
  {
   "cell_type": "code",
   "execution_count": null,
   "id": "6da0f748-a6b6-4688-8cac-427811a43a1b",
   "metadata": {},
   "outputs": [],
   "source": []
  },
  {
   "cell_type": "code",
   "execution_count": null,
   "id": "d892125a-33da-42c2-ad6e-a0b8c771b0fe",
   "metadata": {},
   "outputs": [],
   "source": []
  },
  {
   "cell_type": "code",
   "execution_count": null,
   "id": "5a0d8449-7733-490d-a5c3-39a97abf9067",
   "metadata": {},
   "outputs": [],
   "source": []
  },
  {
   "cell_type": "code",
   "execution_count": 6,
   "id": "2c513fc4-fb45-4262-91e4-d9d7d4d9ac37",
   "metadata": {
    "execution": {
     "iopub.execute_input": "2024-04-09T11:13:55.920506Z",
     "iopub.status.busy": "2024-04-09T11:13:55.920051Z",
     "iopub.status.idle": "2024-04-09T11:13:56.507810Z",
     "shell.execute_reply": "2024-04-09T11:13:56.507352Z",
     "shell.execute_reply.started": "2024-04-09T11:13:55.920488Z"
    }
   },
   "outputs": [
    {
     "name": "stdout",
     "output_type": "stream",
     "text": [
      "Differences between file1 and file2:\n",
      "       diff_JSD\n",
      "               \n",
      "0           0.0\n",
      "1           0.0\n",
      "2           0.0\n",
      "3           0.0\n",
      "4           0.0\n",
      "...         ...\n",
      "836339      0.0\n",
      "836340      0.0\n",
      "836341      0.0\n",
      "836342      0.0\n",
      "836343      0.0\n",
      "\n",
      "[836344 rows x 1 columns]\n"
     ]
    }
   ],
   "source": [
    "import pandas as pd\n",
    "\n",
    "# Read CSV files\n",
    "df1 = pd.read_csv('/shares/grossniklaus.botinst.uzh/eharputluoglu/shannonFiles4/output_metadata_CHG.Col-0.wt.aerial-part.csv', sep = \"\\t\")\n",
    "#df2 = pd.read_csv('shannonFiles4/output_metadata_CHG.Col-0.wt.aerial-part.csv', sep = \"\\t\")\n",
    "df2 = pd.read_csv('out_new.csv', sep = \"\\t\")\n",
    "\n",
    "\n",
    "# Compare dataframes\n",
    "diff = df1.compare(df2)\n",
    "\n",
    "diff[\"diff_JSD\"] = df2[\"JSD_bit_\"] - df1[\"JSD_bit_\"]\n",
    "\n",
    "# Print the differences\n",
    "print(\"Differences between file1 and file2:\")\n",
    "print(diff)"
   ]
  },
  {
   "cell_type": "code",
   "execution_count": 7,
   "id": "474ea1aa-d33f-49e9-9fd4-176fe5b36695",
   "metadata": {
    "execution": {
     "iopub.execute_input": "2024-04-09T11:14:00.510541Z",
     "iopub.status.busy": "2024-04-09T11:14:00.510097Z",
     "iopub.status.idle": "2024-04-09T11:14:00.583042Z",
     "shell.execute_reply": "2024-04-09T11:14:00.582452Z",
     "shell.execute_reply.started": "2024-04-09T11:14:00.510524Z"
    }
   },
   "outputs": [],
   "source": [
    "diff = df1.compare(df2)"
   ]
  },
  {
   "cell_type": "code",
   "execution_count": 8,
   "id": "1d0ab77e-0d7c-4c9f-9e89-0b3cfe6bd0b8",
   "metadata": {
    "execution": {
     "iopub.execute_input": "2024-04-09T11:14:00.972973Z",
     "iopub.status.busy": "2024-04-09T11:14:00.972704Z",
     "iopub.status.idle": "2024-04-09T11:14:00.977215Z",
     "shell.execute_reply": "2024-04-09T11:14:00.976731Z",
     "shell.execute_reply.started": "2024-04-09T11:14:00.972958Z"
    }
   },
   "outputs": [
    {
     "data": {
      "text/html": [
       "<div>\n",
       "<style scoped>\n",
       "    .dataframe tbody tr th:only-of-type {\n",
       "        vertical-align: middle;\n",
       "    }\n",
       "\n",
       "    .dataframe tbody tr th {\n",
       "        vertical-align: top;\n",
       "    }\n",
       "\n",
       "    .dataframe thead tr th {\n",
       "        text-align: left;\n",
       "    }\n",
       "</style>\n",
       "<table border=\"1\" class=\"dataframe\">\n",
       "  <thead>\n",
       "  </thead>\n",
       "  <tbody>\n",
       "  </tbody>\n",
       "</table>\n",
       "</div>"
      ],
      "text/plain": [
       "Empty DataFrame\n",
       "Columns: []\n",
       "Index: []"
      ]
     },
     "execution_count": 8,
     "metadata": {},
     "output_type": "execute_result"
    }
   ],
   "source": [
    "diff"
   ]
  },
  {
   "cell_type": "code",
   "execution_count": null,
   "id": "44959e0c-2641-43be-9604-f3c63ecfec40",
   "metadata": {},
   "outputs": [],
   "source": []
  }
 ],
 "metadata": {
  "kernelspec": {
   "display_name": "Python 3 (ipykernel)",
   "language": "python",
   "name": "python3"
  },
  "language_info": {
   "codemirror_mode": {
    "name": "ipython",
    "version": 3
   },
   "file_extension": ".py",
   "mimetype": "text/x-python",
   "name": "python",
   "nbconvert_exporter": "python",
   "pygments_lexer": "ipython3",
   "version": "3.11.5"
  },
  "widgets": {
   "application/vnd.jupyter.widget-state+json": {
    "state": {},
    "version_major": 2,
    "version_minor": 0
   }
  }
 },
 "nbformat": 4,
 "nbformat_minor": 5
}
