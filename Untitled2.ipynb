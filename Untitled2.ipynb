{
 "cells": [
  {
   "cell_type": "code",
   "execution_count": 1,
   "id": "458cbd88-a0f4-4626-bbb1-8b0a0438681d",
   "metadata": {
    "execution": {
     "iopub.execute_input": "2024-04-24T09:07:05.572606Z",
     "iopub.status.busy": "2024-04-24T09:07:05.572340Z",
     "iopub.status.idle": "2024-04-24T09:07:07.526047Z",
     "shell.execute_reply": "2024-04-24T09:07:07.525612Z",
     "shell.execute_reply.started": "2024-04-24T09:07:05.572588Z"
    }
   },
   "outputs": [],
   "source": [
    "import pandas as pd\n"
   ]
  },
  {
   "cell_type": "code",
   "execution_count": 2,
   "id": "ada7de7a-1c67-467d-a42d-fd4182af3d00",
   "metadata": {
    "execution": {
     "iopub.execute_input": "2024-04-24T09:07:07.531374Z",
     "iopub.status.busy": "2024-04-24T09:07:07.531218Z",
     "iopub.status.idle": "2024-04-24T09:07:07.534005Z",
     "shell.execute_reply": "2024-04-24T09:07:07.533486Z",
     "shell.execute_reply.started": "2024-04-24T09:07:07.531359Z"
    }
   },
   "outputs": [],
   "source": [
    "path_bed = \"/shares/grossniklaus.botinst.uzh/eharputluoglu/meta_methylome/results/shannon/div_CHG_Col-0_wt_aerial-part.bed.gz\"\n",
    "path_chr1_aerial = \"/shares/grossniklaus.botinst.uzh/eharputluoglu/shannonFiles/output_metadata_CHG.Col-0.wt.aerial-part.csv\"\n",
    "path_chr2_aerial = \"/shares/grossniklaus.botinst.uzh/eharputluoglu/shannonFiles2/output_metadata_CHG.Col-0.wt.aerial-part.csv\"\n",
    "path_chr3_aerial = \"/shares/grossniklaus.botinst.uzh/eharputluoglu/shannonFiles3/output_metadata_CHG.Col-0.wt.aerial-part.csv\"\n",
    "path_chr4_aerial = \"/shares/grossniklaus.botinst.uzh/eharputluoglu/shannonFiles4/output_metadata_CHG.Col-0.wt.aerial-part.csv\"\n",
    "path_chr5_aerial = \"/shares/grossniklaus.botinst.uzh/eharputluoglu/shannonFiles5/output_metadata_CHG.Col-0.wt.aerial-part.csv\"\n"
   ]
  },
  {
   "cell_type": "code",
   "execution_count": 4,
   "id": "98547ccf-77da-4151-85cb-7e265588627e",
   "metadata": {
    "execution": {
     "iopub.execute_input": "2024-04-17T13:04:23.910492Z",
     "iopub.status.busy": "2024-04-17T13:04:23.910117Z",
     "iopub.status.idle": "2024-04-17T13:04:32.030077Z",
     "shell.execute_reply": "2024-04-17T13:04:32.029546Z",
     "shell.execute_reply.started": "2024-04-17T13:04:23.910475Z"
    }
   },
   "outputs": [],
   "source": [
    "bed = pd.read_csv(path_bed, sep = \"\\t\", low_memory = False)\n",
    "arial = pd.read_csv(path_chr1_aerial, sep = \"\\t\", low_memory = False)\n",
    "arial2 = pd.read_csv(path_chr2_aerial, sep = \"\\t\", low_memory = False)\n",
    "arial3 = pd.read_csv(path_chr3_aerial, sep = \"\\t\", low_memory = False)\n",
    "arial4 = pd.read_csv(path_chr4_aerial, sep = \"\\t\", low_memory = False)\n",
    "arial5 = pd.read_csv(path_chr5_aerial, sep = \"\\t\", low_memory = False)\n"
   ]
  },
  {
   "cell_type": "code",
   "execution_count": 5,
   "id": "a99372f6-b9d2-4e53-b2f6-cf120e4cf15b",
   "metadata": {
    "execution": {
     "iopub.execute_input": "2024-04-17T13:04:32.050454Z",
     "iopub.status.busy": "2024-04-17T13:04:32.050001Z",
     "iopub.status.idle": "2024-04-17T13:04:37.823740Z",
     "shell.execute_reply": "2024-04-17T13:04:37.823093Z",
     "shell.execute_reply.started": "2024-04-17T13:04:32.050435Z"
    }
   },
   "outputs": [],
   "source": [
    "path_ = \"/shares/grossniklaus.botinst.uzh/eharputluoglu/meta_methylome/results/shannon/div_CHG_Col-0_wt_rosette.bed.gz\"\n",
    "bed_rosette = pd.read_csv(path_bed, sep = \"\\t\", low_memory = False)\n",
    "path_chr1_rosette = \"/shares/grossniklaus.botinst.uzh/eharputluoglu/shannonFiles/output_metadata_CHG.Col-0.wt.rosette.csv\"\n",
    "rosette = pd.read_csv(path_chr1_rosette, sep = \"\\t\", low_memory = False)"
   ]
  },
  {
   "cell_type": "code",
   "execution_count": 6,
   "id": "0b02b152-5557-4136-9f86-36978cebb696",
   "metadata": {
    "execution": {
     "iopub.execute_input": "2024-04-17T13:04:37.825230Z",
     "iopub.status.busy": "2024-04-17T13:04:37.824766Z",
     "iopub.status.idle": "2024-04-17T13:04:37.831942Z",
     "shell.execute_reply": "2024-04-17T13:04:37.831457Z",
     "shell.execute_reply.started": "2024-04-17T13:04:37.825199Z"
    }
   },
   "outputs": [
    {
     "data": {
      "text/plain": [
       "1.476"
      ]
     },
     "execution_count": 6,
     "metadata": {},
     "output_type": "execute_result"
    }
   ],
   "source": [
    "rosette[\"JSD_bit_\"].max()"
   ]
  },
  {
   "cell_type": "code",
   "execution_count": 7,
   "id": "9c197b90-6053-423a-8cb3-3a26a4414545",
   "metadata": {
    "execution": {
     "iopub.execute_input": "2024-04-17T13:04:37.833389Z",
     "iopub.status.busy": "2024-04-17T13:04:37.832667Z",
     "iopub.status.idle": "2024-04-17T13:04:37.849185Z",
     "shell.execute_reply": "2024-04-17T13:04:37.848769Z",
     "shell.execute_reply.started": "2024-04-17T13:04:37.833359Z"
    }
   },
   "outputs": [
    {
     "data": {
      "text/plain": [
       "1.0"
      ]
     },
     "execution_count": 7,
     "metadata": {},
     "output_type": "execute_result"
    }
   ],
   "source": [
    "bed_rosette[\"JSD_bit_\"].max()"
   ]
  },
  {
   "cell_type": "code",
   "execution_count": 8,
   "id": "553650df-1551-4eb9-bf4c-601ac7a9d389",
   "metadata": {
    "execution": {
     "iopub.execute_input": "2024-04-17T13:04:37.850090Z",
     "iopub.status.busy": "2024-04-17T13:04:37.849917Z",
     "iopub.status.idle": "2024-04-17T13:04:38.006757Z",
     "shell.execute_reply": "2024-04-17T13:04:38.006335Z",
     "shell.execute_reply.started": "2024-04-17T13:04:37.850076Z"
    }
   },
   "outputs": [
    {
     "data": {
      "text/plain": [
       "array(['1', '2', '3', '4', '5', 'Mt', 'Pt'], dtype=object)"
      ]
     },
     "execution_count": 8,
     "metadata": {},
     "output_type": "execute_result"
    }
   ],
   "source": [
    "bed[\"#chrom\"].unique()"
   ]
  },
  {
   "cell_type": "code",
   "execution_count": 9,
   "id": "0fd39557-2eb9-453b-97b6-6754a8e118df",
   "metadata": {
    "execution": {
     "iopub.execute_input": "2024-04-17T13:04:38.007588Z",
     "iopub.status.busy": "2024-04-17T13:04:38.007419Z",
     "iopub.status.idle": "2024-04-17T13:04:38.140344Z",
     "shell.execute_reply": "2024-04-17T13:04:38.139822Z",
     "shell.execute_reply.started": "2024-04-17T13:04:38.007573Z"
    }
   },
   "outputs": [],
   "source": [
    "bed[\"#chrom\"] =bed[\"#chrom\"].astype(\"string\")"
   ]
  },
  {
   "cell_type": "code",
   "execution_count": 96,
   "id": "e1154ded-eae5-4446-a40d-e410ddff547c",
   "metadata": {
    "execution": {
     "iopub.execute_input": "2024-04-17T15:41:04.984596Z",
     "iopub.status.busy": "2024-04-17T15:41:04.984279Z",
     "iopub.status.idle": "2024-04-17T15:41:05.319749Z",
     "shell.execute_reply": "2024-04-17T15:41:05.319265Z",
     "shell.execute_reply.started": "2024-04-17T15:41:04.984577Z"
    }
   },
   "outputs": [],
   "source": [
    "bed_1 = bed[bed[\"#chrom\"] == \"1\"]"
   ]
  },
  {
   "cell_type": "code",
   "execution_count": 97,
   "id": "b1070622-4dee-4977-9e31-8c4b20b432f6",
   "metadata": {
    "execution": {
     "iopub.execute_input": "2024-04-17T15:41:05.321009Z",
     "iopub.status.busy": "2024-04-17T15:41:05.320740Z",
     "iopub.status.idle": "2024-04-17T15:41:06.665361Z",
     "shell.execute_reply": "2024-04-17T15:41:06.664862Z",
     "shell.execute_reply.started": "2024-04-17T15:41:05.320991Z"
    }
   },
   "outputs": [],
   "source": [
    "start_arr = bed[\"start\"].unique()\n",
    "end_arr = bed[\"end\"].unique()"
   ]
  },
  {
   "cell_type": "code",
   "execution_count": 98,
   "id": "f2080e5d-003e-447e-8481-44ec3d8b821f",
   "metadata": {
    "execution": {
     "iopub.execute_input": "2024-04-17T15:41:06.666350Z",
     "iopub.status.busy": "2024-04-17T15:41:06.666159Z",
     "iopub.status.idle": "2024-04-17T15:41:07.317594Z",
     "shell.execute_reply": "2024-04-17T15:41:07.317083Z",
     "shell.execute_reply.started": "2024-04-17T15:41:06.666333Z"
    }
   },
   "outputs": [],
   "source": [
    "arial_filtered = arial[arial[\"start\"].isin(start_arr) & arial[\"end\"].isin(end_arr)]"
   ]
  },
  {
   "cell_type": "code",
   "execution_count": 99,
   "id": "d9d31011-6aa1-4bf7-b42e-b00dd056cb67",
   "metadata": {
    "execution": {
     "iopub.execute_input": "2024-04-17T15:41:07.344116Z",
     "iopub.status.busy": "2024-04-17T15:41:07.343963Z",
     "iopub.status.idle": "2024-04-17T15:41:07.352044Z",
     "shell.execute_reply": "2024-04-17T15:41:07.351689Z",
     "shell.execute_reply.started": "2024-04-17T15:41:07.344102Z"
    }
   },
   "outputs": [
    {
     "data": {
      "text/html": [
       "<div>\n",
       "<style scoped>\n",
       "    .dataframe tbody tr th:only-of-type {\n",
       "        vertical-align: middle;\n",
       "    }\n",
       "\n",
       "    .dataframe tbody tr th {\n",
       "        vertical-align: top;\n",
       "    }\n",
       "\n",
       "    .dataframe thead th {\n",
       "        text-align: right;\n",
       "    }\n",
       "</style>\n",
       "<table border=\"1\" class=\"dataframe\">\n",
       "  <thead>\n",
       "    <tr style=\"text-align: right;\">\n",
       "      <th></th>\n",
       "      <th>#chrom</th>\n",
       "      <th>start</th>\n",
       "      <th>end</th>\n",
       "      <th>JSD_bit_</th>\n",
       "      <th>sample size</th>\n",
       "      <th>HMIX_bit_</th>\n",
       "      <th>5mC</th>\n",
       "      <th>C</th>\n",
       "    </tr>\n",
       "  </thead>\n",
       "  <tbody>\n",
       "    <tr>\n",
       "      <th>0</th>\n",
       "      <td>1</td>\n",
       "      <td>33</td>\n",
       "      <td>34</td>\n",
       "      <td>0.409</td>\n",
       "      <td>7</td>\n",
       "      <td>0.929</td>\n",
       "      <td>10</td>\n",
       "      <td>19</td>\n",
       "    </tr>\n",
       "    <tr>\n",
       "      <th>1</th>\n",
       "      <td>1</td>\n",
       "      <td>107</td>\n",
       "      <td>108</td>\n",
       "      <td>0.471</td>\n",
       "      <td>7</td>\n",
       "      <td>0.750</td>\n",
       "      <td>11</td>\n",
       "      <td>3</td>\n",
       "    </tr>\n",
       "    <tr>\n",
       "      <th>2</th>\n",
       "      <td>1</td>\n",
       "      <td>113</td>\n",
       "      <td>114</td>\n",
       "      <td>0.364</td>\n",
       "      <td>7</td>\n",
       "      <td>0.831</td>\n",
       "      <td>5</td>\n",
       "      <td>14</td>\n",
       "    </tr>\n",
       "    <tr>\n",
       "      <th>3</th>\n",
       "      <td>1</td>\n",
       "      <td>116</td>\n",
       "      <td>117</td>\n",
       "      <td>0.095</td>\n",
       "      <td>6</td>\n",
       "      <td>0.944</td>\n",
       "      <td>17</td>\n",
       "      <td>30</td>\n",
       "    </tr>\n",
       "    <tr>\n",
       "      <th>4</th>\n",
       "      <td>1</td>\n",
       "      <td>122</td>\n",
       "      <td>123</td>\n",
       "      <td>0.129</td>\n",
       "      <td>7</td>\n",
       "      <td>0.414</td>\n",
       "      <td>22</td>\n",
       "      <td>2</td>\n",
       "    </tr>\n",
       "    <tr>\n",
       "      <th>...</th>\n",
       "      <td>...</td>\n",
       "      <td>...</td>\n",
       "      <td>...</td>\n",
       "      <td>...</td>\n",
       "      <td>...</td>\n",
       "      <td>...</td>\n",
       "      <td>...</td>\n",
       "      <td>...</td>\n",
       "    </tr>\n",
       "    <tr>\n",
       "      <th>1256934</th>\n",
       "      <td>1</td>\n",
       "      <td>30427478</td>\n",
       "      <td>30427479</td>\n",
       "      <td>0.108</td>\n",
       "      <td>5</td>\n",
       "      <td>0.187</td>\n",
       "      <td>34</td>\n",
       "      <td>1</td>\n",
       "    </tr>\n",
       "    <tr>\n",
       "      <th>1256935</th>\n",
       "      <td>1</td>\n",
       "      <td>30427486</td>\n",
       "      <td>30427487</td>\n",
       "      <td>0.076</td>\n",
       "      <td>7</td>\n",
       "      <td>0.235</td>\n",
       "      <td>25</td>\n",
       "      <td>1</td>\n",
       "    </tr>\n",
       "    <tr>\n",
       "      <th>1256936</th>\n",
       "      <td>1</td>\n",
       "      <td>30427488</td>\n",
       "      <td>30427489</td>\n",
       "      <td>0.105</td>\n",
       "      <td>4</td>\n",
       "      <td>0.345</td>\n",
       "      <td>29</td>\n",
       "      <td>2</td>\n",
       "    </tr>\n",
       "    <tr>\n",
       "      <th>1256937</th>\n",
       "      <td>1</td>\n",
       "      <td>30427529</td>\n",
       "      <td>30427530</td>\n",
       "      <td>0.081</td>\n",
       "      <td>7</td>\n",
       "      <td>0.402</td>\n",
       "      <td>46</td>\n",
       "      <td>4</td>\n",
       "    </tr>\n",
       "    <tr>\n",
       "      <th>1256938</th>\n",
       "      <td>1</td>\n",
       "      <td>30427531</td>\n",
       "      <td>30427532</td>\n",
       "      <td>0.242</td>\n",
       "      <td>6</td>\n",
       "      <td>0.242</td>\n",
       "      <td>24</td>\n",
       "      <td>1</td>\n",
       "    </tr>\n",
       "  </tbody>\n",
       "</table>\n",
       "<p>1256939 rows × 8 columns</p>\n",
       "</div>"
      ],
      "text/plain": [
       "        #chrom     start       end  JSD_bit_  sample size  HMIX_bit_  5mC   C\n",
       "0            1        33        34     0.409            7      0.929   10  19\n",
       "1            1       107       108     0.471            7      0.750   11   3\n",
       "2            1       113       114     0.364            7      0.831    5  14\n",
       "3            1       116       117     0.095            6      0.944   17  30\n",
       "4            1       122       123     0.129            7      0.414   22   2\n",
       "...        ...       ...       ...       ...          ...        ...  ...  ..\n",
       "1256934      1  30427478  30427479     0.108            5      0.187   34   1\n",
       "1256935      1  30427486  30427487     0.076            7      0.235   25   1\n",
       "1256936      1  30427488  30427489     0.105            4      0.345   29   2\n",
       "1256937      1  30427529  30427530     0.081            7      0.402   46   4\n",
       "1256938      1  30427531  30427532     0.242            6      0.242   24   1\n",
       "\n",
       "[1256939 rows x 8 columns]"
      ]
     },
     "execution_count": 99,
     "metadata": {},
     "output_type": "execute_result"
    }
   ],
   "source": [
    "bed_1"
   ]
  },
  {
   "cell_type": "code",
   "execution_count": 15,
   "id": "294b1b08-26ab-4243-aabc-ee6cd52ab701",
   "metadata": {
    "execution": {
     "iopub.execute_input": "2024-04-17T13:04:46.963435Z",
     "iopub.status.busy": "2024-04-17T13:04:46.963089Z",
     "iopub.status.idle": "2024-04-17T13:04:46.989366Z",
     "shell.execute_reply": "2024-04-17T13:04:46.988901Z",
     "shell.execute_reply.started": "2024-04-17T13:04:46.963415Z"
    }
   },
   "outputs": [],
   "source": [
    "arial_filtered_drop_0_cov = arial_filtered[arial_filtered[\"cov\"] != 0]"
   ]
  },
  {
   "cell_type": "code",
   "execution_count": 16,
   "id": "08afdb65-447b-4fd6-8797-d87c071b0921",
   "metadata": {
    "execution": {
     "iopub.execute_input": "2024-04-17T13:04:47.411996Z",
     "iopub.status.busy": "2024-04-17T13:04:47.411607Z",
     "iopub.status.idle": "2024-04-17T13:04:47.422444Z",
     "shell.execute_reply": "2024-04-17T13:04:47.421917Z",
     "shell.execute_reply.started": "2024-04-17T13:04:47.411974Z"
    }
   },
   "outputs": [
    {
     "data": {
      "text/plain": [
       "array([7, 6, 5, 4, 2, 3, 8])"
      ]
     },
     "execution_count": 16,
     "metadata": {},
     "output_type": "execute_result"
    }
   ],
   "source": [
    "bed_1[\"sample size\"].unique()"
   ]
  },
  {
   "cell_type": "code",
   "execution_count": 17,
   "id": "df1935f6-29cb-4f59-b79d-5e0600aa4db9",
   "metadata": {
    "execution": {
     "iopub.execute_input": "2024-04-17T13:04:48.187028Z",
     "iopub.status.busy": "2024-04-17T13:04:48.186650Z",
     "iopub.status.idle": "2024-04-17T13:04:48.193131Z",
     "shell.execute_reply": "2024-04-17T13:04:48.192536Z",
     "shell.execute_reply.started": "2024-04-17T13:04:48.187007Z"
    }
   },
   "outputs": [
    {
     "data": {
      "text/plain": [
       "array([8])"
      ]
     },
     "execution_count": 17,
     "metadata": {},
     "output_type": "execute_result"
    }
   ],
   "source": [
    "arial_filtered_drop_0_cov[\"sample size\"].unique()"
   ]
  },
  {
   "cell_type": "code",
   "execution_count": 18,
   "id": "414c000f-0c71-4de8-b08a-ef01831a0b06",
   "metadata": {
    "execution": {
     "iopub.execute_input": "2024-04-17T13:04:49.291553Z",
     "iopub.status.busy": "2024-04-17T13:04:49.291167Z",
     "iopub.status.idle": "2024-04-17T13:04:49.295281Z",
     "shell.execute_reply": "2024-04-17T13:04:49.294793Z",
     "shell.execute_reply.started": "2024-04-17T13:04:49.291531Z"
    }
   },
   "outputs": [
    {
     "data": {
      "text/plain": [
       "-50280"
      ]
     },
     "execution_count": 18,
     "metadata": {},
     "output_type": "execute_result"
    }
   ],
   "source": [
    "len(bed_1) - len(arial)\n"
   ]
  },
  {
   "cell_type": "code",
   "execution_count": 19,
   "id": "fe6b5721-3268-4bdc-bf69-7d0707b0ce73",
   "metadata": {
    "execution": {
     "iopub.execute_input": "2024-04-17T13:04:50.107650Z",
     "iopub.status.busy": "2024-04-17T13:04:50.107315Z",
     "iopub.status.idle": "2024-04-17T13:04:51.638567Z",
     "shell.execute_reply": "2024-04-17T13:04:51.638003Z",
     "shell.execute_reply.started": "2024-04-17T13:04:50.107631Z"
    }
   },
   "outputs": [
    {
     "name": "stdout",
     "output_type": "stream",
     "text": [
      "diff chr1: -50280\n",
      "diff chr2: -39304\n",
      "diff chr3: -38651\n",
      "diff chr4: -32457\n",
      "diff chr5: -45726\n"
     ]
    }
   ],
   "source": [
    "print(\"diff chr1:\", len(bed[bed[\"#chrom\"] == \"1\"]) - len(arial))\n",
    "print(\"diff chr2:\", len(bed[bed[\"#chrom\"] == \"2\"]) - len(arial2))\n",
    "print(\"diff chr3:\", len(bed[bed[\"#chrom\"] == \"3\"]) - len(arial3))\n",
    "print(\"diff chr4:\", len(bed[bed[\"#chrom\"] == \"4\"]) - len(arial4))\n",
    "print(\"diff chr5:\", len(bed[bed[\"#chrom\"] == \"5\"]) - len(arial5))\n"
   ]
  },
  {
   "cell_type": "code",
   "execution_count": 20,
   "id": "0424dfdc-4ea6-46bb-bb3c-44a2f5ac9803",
   "metadata": {
    "execution": {
     "iopub.execute_input": "2024-04-17T13:04:51.652695Z",
     "iopub.status.busy": "2024-04-17T13:04:51.652443Z",
     "iopub.status.idle": "2024-04-17T13:04:53.172816Z",
     "shell.execute_reply": "2024-04-17T13:04:53.172132Z",
     "shell.execute_reply.started": "2024-04-17T13:04:51.652671Z"
    }
   },
   "outputs": [
    {
     "name": "stdout",
     "output_type": "stream",
     "text": [
      "[7 6 5 4 2 3 8]\n",
      "[8 7 6 5 4 3 2]\n",
      "[5 2 6 8 3 4 7]\n",
      "[5 6 7 8 4 3 2]\n",
      "[4 8 7 5 6 3 2]\n"
     ]
    }
   ],
   "source": [
    "print(bed[bed[\"#chrom\"] == \"1\"][\"sample size\"].unique())\n",
    "print(bed[bed[\"#chrom\"] == \"2\"][\"sample size\"].unique())\n",
    "print(bed[bed[\"#chrom\"] == \"3\"][\"sample size\"].unique())\n",
    "print(bed[bed[\"#chrom\"] == \"4\"][\"sample size\"].unique())\n",
    "print(bed[bed[\"#chrom\"] == \"5\"][\"sample size\"].unique())"
   ]
  },
  {
   "cell_type": "code",
   "execution_count": 103,
   "id": "1e1e27b0-bc7e-461c-9dc9-e1e9b992c625",
   "metadata": {
    "execution": {
     "iopub.execute_input": "2024-04-17T15:43:01.864202Z",
     "iopub.status.busy": "2024-04-17T15:43:01.863600Z",
     "iopub.status.idle": "2024-04-17T15:43:01.879540Z",
     "shell.execute_reply": "2024-04-17T15:43:01.879104Z",
     "shell.execute_reply.started": "2024-04-17T15:43:01.864178Z"
    }
   },
   "outputs": [
    {
     "data": {
      "text/html": [
       "<div>\n",
       "<style scoped>\n",
       "    .dataframe tbody tr th:only-of-type {\n",
       "        vertical-align: middle;\n",
       "    }\n",
       "\n",
       "    .dataframe tbody tr th {\n",
       "        vertical-align: top;\n",
       "    }\n",
       "\n",
       "    .dataframe thead th {\n",
       "        text-align: right;\n",
       "    }\n",
       "</style>\n",
       "<table border=\"1\" class=\"dataframe\">\n",
       "  <thead>\n",
       "    <tr style=\"text-align: right;\">\n",
       "      <th></th>\n",
       "      <th>#chrom</th>\n",
       "      <th>start</th>\n",
       "      <th>end</th>\n",
       "      <th>JSD_bit_</th>\n",
       "      <th>sample size</th>\n",
       "      <th>HMIX_bit_</th>\n",
       "      <th>5mC</th>\n",
       "      <th>C</th>\n",
       "    </tr>\n",
       "  </thead>\n",
       "  <tbody>\n",
       "    <tr>\n",
       "      <th>529</th>\n",
       "      <td>1</td>\n",
       "      <td>18743</td>\n",
       "      <td>18744</td>\n",
       "      <td>0.306</td>\n",
       "      <td>8</td>\n",
       "      <td>0.592</td>\n",
       "      <td>18</td>\n",
       "      <td>3</td>\n",
       "    </tr>\n",
       "    <tr>\n",
       "      <th>686</th>\n",
       "      <td>1</td>\n",
       "      <td>24415</td>\n",
       "      <td>24416</td>\n",
       "      <td>0.600</td>\n",
       "      <td>8</td>\n",
       "      <td>0.706</td>\n",
       "      <td>5</td>\n",
       "      <td>21</td>\n",
       "    </tr>\n",
       "  </tbody>\n",
       "</table>\n",
       "</div>"
      ],
      "text/plain": [
       "    #chrom  start    end  JSD_bit_  sample size  HMIX_bit_  5mC   C\n",
       "529      1  18743  18744     0.306            8      0.592   18   3\n",
       "686      1  24415  24416     0.600            8      0.706    5  21"
      ]
     },
     "execution_count": 103,
     "metadata": {},
     "output_type": "execute_result"
    }
   ],
   "source": [
    "bed_1[bed_1[\"sample size\"] == 8].head(2)"
   ]
  },
  {
   "cell_type": "code",
   "execution_count": 102,
   "id": "56c7c265-dd8c-4979-951d-719d00850bce",
   "metadata": {
    "execution": {
     "iopub.execute_input": "2024-04-17T15:42:54.913635Z",
     "iopub.status.busy": "2024-04-17T15:42:54.913124Z",
     "iopub.status.idle": "2024-04-17T15:42:54.937998Z",
     "shell.execute_reply": "2024-04-17T15:42:54.937572Z",
     "shell.execute_reply.started": "2024-04-17T15:42:54.913615Z"
    }
   },
   "outputs": [
    {
     "data": {
      "text/html": [
       "<div>\n",
       "<style scoped>\n",
       "    .dataframe tbody tr th:only-of-type {\n",
       "        vertical-align: middle;\n",
       "    }\n",
       "\n",
       "    .dataframe tbody tr th {\n",
       "        vertical-align: top;\n",
       "    }\n",
       "\n",
       "    .dataframe thead th {\n",
       "        text-align: right;\n",
       "    }\n",
       "</style>\n",
       "<table border=\"1\" class=\"dataframe\">\n",
       "  <thead>\n",
       "    <tr style=\"text-align: right;\">\n",
       "      <th></th>\n",
       "      <th>#chrom</th>\n",
       "      <th>start</th>\n",
       "      <th>end</th>\n",
       "      <th>JSD_bit_</th>\n",
       "      <th>sample size</th>\n",
       "      <th>HMIX_bit_</th>\n",
       "      <th>cov</th>\n",
       "      <th>m</th>\n",
       "      <th>um</th>\n",
       "    </tr>\n",
       "  </thead>\n",
       "  <tbody>\n",
       "    <tr>\n",
       "      <th>540</th>\n",
       "      <td>1</td>\n",
       "      <td>18743</td>\n",
       "      <td>18744</td>\n",
       "      <td>0.023</td>\n",
       "      <td>8</td>\n",
       "      <td>0.222</td>\n",
       "      <td>641</td>\n",
       "      <td>18</td>\n",
       "      <td>3</td>\n",
       "    </tr>\n",
       "    <tr>\n",
       "      <th>702</th>\n",
       "      <td>1</td>\n",
       "      <td>24415</td>\n",
       "      <td>24416</td>\n",
       "      <td>0.366</td>\n",
       "      <td>8</td>\n",
       "      <td>0.541</td>\n",
       "      <td>233</td>\n",
       "      <td>5</td>\n",
       "      <td>21</td>\n",
       "    </tr>\n",
       "  </tbody>\n",
       "</table>\n",
       "</div>"
      ],
      "text/plain": [
       "     #chrom  start    end  JSD_bit_  sample size  HMIX_bit_  cov   m  um\n",
       "540       1  18743  18744     0.023            8      0.222  641  18   3\n",
       "702       1  24415  24416     0.366            8      0.541  233   5  21"
      ]
     },
     "execution_count": 102,
     "metadata": {},
     "output_type": "execute_result"
    }
   ],
   "source": [
    "arial[arial[\"start\"].isin([18743, 24415]) & arial[\"end\"].isin([18744, 24416])]"
   ]
  },
  {
   "cell_type": "code",
   "execution_count": 111,
   "id": "c2417a69-1f46-442c-a630-62057771ef36",
   "metadata": {
    "execution": {
     "iopub.execute_input": "2024-04-17T15:57:14.955539Z",
     "iopub.status.busy": "2024-04-17T15:57:14.955116Z",
     "iopub.status.idle": "2024-04-17T15:57:14.990387Z",
     "shell.execute_reply": "2024-04-17T15:57:14.989915Z",
     "shell.execute_reply.started": "2024-04-17T15:57:14.955514Z"
    }
   },
   "outputs": [
    {
     "data": {
      "text/html": [
       "<div>\n",
       "<style scoped>\n",
       "    .dataframe tbody tr th:only-of-type {\n",
       "        vertical-align: middle;\n",
       "    }\n",
       "\n",
       "    .dataframe tbody tr th {\n",
       "        vertical-align: top;\n",
       "    }\n",
       "\n",
       "    .dataframe thead th {\n",
       "        text-align: right;\n",
       "    }\n",
       "</style>\n",
       "<table border=\"1\" class=\"dataframe\">\n",
       "  <thead>\n",
       "    <tr style=\"text-align: right;\">\n",
       "      <th></th>\n",
       "      <th>#chrom</th>\n",
       "      <th>start</th>\n",
       "      <th>end</th>\n",
       "      <th>JSD_bit_</th>\n",
       "      <th>sample size</th>\n",
       "      <th>HMIX_bit_</th>\n",
       "      <th>name1</th>\n",
       "      <th>name2</th>\n",
       "      <th>name3</th>\n",
       "    </tr>\n",
       "  </thead>\n",
       "  <tbody>\n",
       "    <tr>\n",
       "      <th>540</th>\n",
       "      <td>1</td>\n",
       "      <td>18743</td>\n",
       "      <td>18744</td>\n",
       "      <td>0.040</td>\n",
       "      <td>8</td>\n",
       "      <td>0.222</td>\n",
       "      <td>641</td>\n",
       "      <td>18</td>\n",
       "      <td>3</td>\n",
       "    </tr>\n",
       "    <tr>\n",
       "      <th>702</th>\n",
       "      <td>1</td>\n",
       "      <td>24415</td>\n",
       "      <td>24416</td>\n",
       "      <td>0.446</td>\n",
       "      <td>8</td>\n",
       "      <td>0.541</td>\n",
       "      <td>233</td>\n",
       "      <td>5</td>\n",
       "      <td>21</td>\n",
       "    </tr>\n",
       "  </tbody>\n",
       "</table>\n",
       "</div>"
      ],
      "text/plain": [
       "     #chrom  start    end  JSD_bit_  sample size  HMIX_bit_  name1  name2  \\\n",
       "540       1  18743  18744     0.040            8      0.222    641     18   \n",
       "702       1  24415  24416     0.446            8      0.541    233      5   \n",
       "\n",
       "     name3  \n",
       "540      3  \n",
       "702     21  "
      ]
     },
     "execution_count": 111,
     "metadata": {},
     "output_type": "execute_result"
    }
   ],
   "source": [
    "new_arial[new_arial[\"start\"].isin([18743, 24415]) & new_arial[\"end\"].isin([18744, 24416])]"
   ]
  },
  {
   "cell_type": "code",
   "execution_count": 21,
   "id": "a3675821-e612-4d32-887e-bc1274263c78",
   "metadata": {
    "execution": {
     "iopub.execute_input": "2024-04-17T13:04:53.174794Z",
     "iopub.status.busy": "2024-04-17T13:04:53.174554Z",
     "iopub.status.idle": "2024-04-17T13:04:53.205653Z",
     "shell.execute_reply": "2024-04-17T13:04:53.205222Z",
     "shell.execute_reply.started": "2024-04-17T13:04:53.174776Z"
    }
   },
   "outputs": [
    {
     "name": "stdout",
     "output_type": "stream",
     "text": [
      "[8]\n",
      "[8]\n",
      "[8]\n",
      "[8]\n",
      "[8]\n"
     ]
    }
   ],
   "source": [
    "print(arial[\"sample size\"].unique())\n",
    "print(arial2[\"sample size\"].unique())\n",
    "print(arial3[\"sample size\"].unique())\n",
    "print(arial4[\"sample size\"].unique())\n",
    "print(arial5[\"sample size\"].unique())\n",
    "\n"
   ]
  },
  {
   "cell_type": "code",
   "execution_count": 114,
   "id": "05595315-495a-43ec-bd10-9433054ca10e",
   "metadata": {
    "execution": {
     "iopub.execute_input": "2024-04-17T10:40:37.249545Z",
     "iopub.status.busy": "2024-04-17T10:40:37.249268Z",
     "iopub.status.idle": "2024-04-17T10:40:37.253793Z",
     "shell.execute_reply": "2024-04-17T10:40:37.253238Z",
     "shell.execute_reply.started": "2024-04-17T10:40:37.249527Z"
    }
   },
   "outputs": [
    {
     "data": {
      "text/plain": [
       "-6331"
      ]
     },
     "execution_count": 114,
     "metadata": {},
     "output_type": "execute_result"
    }
   ],
   "source": [
    "diff = len(bed_1) - len(arial_filtered) \n",
    "diff"
   ]
  },
  {
   "cell_type": "code",
   "execution_count": 115,
   "id": "b13e8596-669d-4025-812e-53dad083ea82",
   "metadata": {
    "execution": {
     "iopub.execute_input": "2024-04-17T10:40:41.008900Z",
     "iopub.status.busy": "2024-04-17T10:40:41.008610Z",
     "iopub.status.idle": "2024-04-17T10:40:41.013158Z",
     "shell.execute_reply": "2024-04-17T10:40:41.012415Z",
     "shell.execute_reply.started": "2024-04-17T10:40:41.008882Z"
    }
   },
   "outputs": [
    {
     "data": {
      "text/plain": [
       "888338"
      ]
     },
     "execution_count": 115,
     "metadata": {},
     "output_type": "execute_result"
    }
   ],
   "source": [
    "diff2 =  len(bed_1) - len(arial_filtered_drop_0_cov)\n",
    "diff2"
   ]
  },
  {
   "cell_type": "code",
   "execution_count": 90,
   "id": "d0557e95-8ed5-46f2-8bdb-03d58a05575a",
   "metadata": {
    "execution": {
     "iopub.execute_input": "2024-04-17T10:17:07.654664Z",
     "iopub.status.busy": "2024-04-17T10:17:07.654398Z",
     "iopub.status.idle": "2024-04-17T10:17:07.710680Z",
     "shell.execute_reply": "2024-04-17T10:17:07.710282Z",
     "shell.execute_reply.started": "2024-04-17T10:17:07.654648Z"
    }
   },
   "outputs": [
    {
     "name": "stdout",
     "output_type": "stream",
     "text": [
      "<class 'pandas.core.frame.DataFrame'>\n",
      "Index: 1263270 entries, 1 to 1307217\n",
      "Data columns (total 8 columns):\n",
      " #   Column       Non-Null Count    Dtype  \n",
      "---  ------       --------------    -----  \n",
      " 0   #chrom       1263270 non-null  string \n",
      " 1   start        1263270 non-null  int64  \n",
      " 2   end          1263270 non-null  int64  \n",
      " 3   JSD_bit_     1263270 non-null  float64\n",
      " 4   sample size  1263270 non-null  int64  \n",
      " 5   HMIX_bit_    1263270 non-null  float64\n",
      " 6   m            1263270 non-null  int64  \n",
      " 7   um           1263270 non-null  int64  \n",
      "dtypes: float64(2), int64(5), string(1)\n",
      "memory usage: 86.7 MB\n"
     ]
    }
   ],
   "source": [
    "arial_filtered_no_cov.info()"
   ]
  },
  {
   "cell_type": "code",
   "execution_count": 110,
   "id": "ae548295-5078-4bbc-a695-c3775be44b1d",
   "metadata": {
    "execution": {
     "iopub.execute_input": "2024-04-17T15:57:11.386157Z",
     "iopub.status.busy": "2024-04-17T15:57:11.385641Z",
     "iopub.status.idle": "2024-04-17T15:57:11.975816Z",
     "shell.execute_reply": "2024-04-17T15:57:11.975262Z",
     "shell.execute_reply.started": "2024-04-17T15:57:11.386122Z"
    }
   },
   "outputs": [],
   "source": [
    "new_arial = pd.read_csv(\"/home/eharpu/shannon/output_results.csv\", sep = \"\\t\")"
   ]
  },
  {
   "cell_type": "code",
   "execution_count": null,
   "id": "9656884a-30cf-422a-9b9a-b01f6b2218b1",
   "metadata": {},
   "outputs": [],
   "source": []
  },
  {
   "cell_type": "code",
   "execution_count": 76,
   "id": "b8c7fd73-6ec9-41f1-b4b7-3aed079d6ba3",
   "metadata": {
    "execution": {
     "iopub.execute_input": "2024-04-17T15:10:12.480439Z",
     "iopub.status.busy": "2024-04-17T15:10:12.480040Z",
     "iopub.status.idle": "2024-04-17T15:10:18.061472Z",
     "shell.execute_reply": "2024-04-17T15:10:18.061003Z",
     "shell.execute_reply.started": "2024-04-17T15:10:12.480419Z"
    }
   },
   "outputs": [],
   "source": [
    "a = pd.read_csv(\"/shares/grossniklaus.botinst.uzh/dkt/scienceCloud/okartal_marcws_processed/processed/SRR448385.count/SRR448385_CHG.bedGraph.gz\", sep = \"\\t\", low_memory = False, header = 0)\n"
   ]
  },
  {
   "cell_type": "code",
   "execution_count": 77,
   "id": "15a1980e-481d-42fb-8091-8d810d12dc3c",
   "metadata": {
    "execution": {
     "iopub.execute_input": "2024-04-17T15:10:18.362752Z",
     "iopub.status.busy": "2024-04-17T15:10:18.362512Z",
     "iopub.status.idle": "2024-04-17T15:11:03.852986Z",
     "shell.execute_reply": "2024-04-17T15:11:03.852281Z",
     "shell.execute_reply.started": "2024-04-17T15:10:18.362728Z"
    }
   },
   "outputs": [],
   "source": [
    "set_a = set()\n",
    "for i in range(len(a)):\n",
    "    set_a.add(a.index[i][0])\n",
    "    \n"
   ]
  },
  {
   "cell_type": "code",
   "execution_count": 78,
   "id": "9fe557ba-6d96-4659-a7ae-99dfc41f2a0a",
   "metadata": {
    "execution": {
     "iopub.execute_input": "2024-04-17T15:11:03.854989Z",
     "iopub.status.busy": "2024-04-17T15:11:03.854711Z",
     "iopub.status.idle": "2024-04-17T15:11:03.859075Z",
     "shell.execute_reply": "2024-04-17T15:11:03.858480Z",
     "shell.execute_reply.started": "2024-04-17T15:11:03.854964Z"
    }
   },
   "outputs": [
    {
     "data": {
      "text/plain": [
       "{'1', '2', '3', '4', '5', 'Mt', 'Pt'}"
      ]
     },
     "execution_count": 78,
     "metadata": {},
     "output_type": "execute_result"
    }
   ],
   "source": [
    "set_a\n"
   ]
  },
  {
   "cell_type": "markdown",
   "id": "68ef04a0-649d-4c8a-bb35-1766146464e9",
   "metadata": {},
   "source": [
    "\turl\n",
    " \n",
    "1 \t/myProcessed/processed/DRR021337.count/DRR021337_CHG.bedGraph.gz\n",
    "2\t/myProcessed/processed/SRR017267.count/SRR017267_CHG.bedGraph.gz\n",
    "3\t/myProcessed/processed/SRR017268.count/SRR017268_CHG.bedGraph.gz\n",
    "4\t/myProcessed/processed/SRR017269.count/SRR017269_CHG.bedGraph.gz\n",
    "5\t/myProcessed/processed/SRR1565344.count/SRR1565344_CHG.bedGraph.gz\n",
    "6\t/myProcessed/processed/SRR2064658.count/SRR2064658_CHG.bedGraph.gz\n",
    "\n",
    "7\t/myProcessed/processed/SRR448384.count/SRR448384_CHG.bedGraph.gz\n",
    "8\t/myProcessed/processed/SRR448385.count/SRR448385_CHG.bedGraph.gz"
   ]
  },
  {
   "cell_type": "code",
   "execution_count": 3,
   "id": "14512faa-3e83-4c84-b591-68a18639731c",
   "metadata": {
    "execution": {
     "iopub.execute_input": "2024-04-24T09:08:23.899406Z",
     "iopub.status.busy": "2024-04-24T09:08:23.899150Z",
     "iopub.status.idle": "2024-04-24T09:08:27.935184Z",
     "shell.execute_reply": "2024-04-24T09:08:27.934569Z",
     "shell.execute_reply.started": "2024-04-24T09:08:23.899389Z"
    }
   },
   "outputs": [],
   "source": [
    "bed = pd.read_csv(path_bed, sep = \"\\t\", low_memory = False)\n",
    "new_arial = pd.read_csv(\"/home/eharpu/shannon/output_results_5_6.csv\", sep = \"\\t\")"
   ]
  },
  {
   "cell_type": "code",
   "execution_count": 6,
   "id": "d8faf4d4-b85f-487c-981e-9d1d36117d8c",
   "metadata": {
    "execution": {
     "iopub.execute_input": "2024-04-24T09:09:36.988588Z",
     "iopub.status.busy": "2024-04-24T09:09:36.987988Z",
     "iopub.status.idle": "2024-04-24T09:09:37.285791Z",
     "shell.execute_reply": "2024-04-24T09:09:37.285410Z",
     "shell.execute_reply.started": "2024-04-24T09:09:36.988569Z"
    }
   },
   "outputs": [
    {
     "data": {
      "text/html": [
       "<div>\n",
       "<style scoped>\n",
       "    .dataframe tbody tr th:only-of-type {\n",
       "        vertical-align: middle;\n",
       "    }\n",
       "\n",
       "    .dataframe tbody tr th {\n",
       "        vertical-align: top;\n",
       "    }\n",
       "\n",
       "    .dataframe thead th {\n",
       "        text-align: right;\n",
       "    }\n",
       "</style>\n",
       "<table border=\"1\" class=\"dataframe\">\n",
       "  <thead>\n",
       "    <tr style=\"text-align: right;\">\n",
       "      <th></th>\n",
       "      <th>#chrom</th>\n",
       "      <th>start</th>\n",
       "      <th>end</th>\n",
       "      <th>JSD_bit_</th>\n",
       "      <th>sample size</th>\n",
       "      <th>HMIX_bit_</th>\n",
       "      <th>5mC</th>\n",
       "      <th>C</th>\n",
       "    </tr>\n",
       "  </thead>\n",
       "  <tbody>\n",
       "    <tr>\n",
       "      <th>0</th>\n",
       "      <td>1</td>\n",
       "      <td>33</td>\n",
       "      <td>34</td>\n",
       "      <td>0.409</td>\n",
       "      <td>7</td>\n",
       "      <td>0.929</td>\n",
       "      <td>10</td>\n",
       "      <td>19</td>\n",
       "    </tr>\n",
       "    <tr>\n",
       "      <th>1</th>\n",
       "      <td>1</td>\n",
       "      <td>107</td>\n",
       "      <td>108</td>\n",
       "      <td>0.471</td>\n",
       "      <td>7</td>\n",
       "      <td>0.750</td>\n",
       "      <td>11</td>\n",
       "      <td>3</td>\n",
       "    </tr>\n",
       "    <tr>\n",
       "      <th>2</th>\n",
       "      <td>1</td>\n",
       "      <td>113</td>\n",
       "      <td>114</td>\n",
       "      <td>0.364</td>\n",
       "      <td>7</td>\n",
       "      <td>0.831</td>\n",
       "      <td>5</td>\n",
       "      <td>14</td>\n",
       "    </tr>\n",
       "    <tr>\n",
       "      <th>3</th>\n",
       "      <td>1</td>\n",
       "      <td>116</td>\n",
       "      <td>117</td>\n",
       "      <td>0.095</td>\n",
       "      <td>6</td>\n",
       "      <td>0.944</td>\n",
       "      <td>17</td>\n",
       "      <td>30</td>\n",
       "    </tr>\n",
       "    <tr>\n",
       "      <th>4</th>\n",
       "      <td>1</td>\n",
       "      <td>122</td>\n",
       "      <td>123</td>\n",
       "      <td>0.129</td>\n",
       "      <td>7</td>\n",
       "      <td>0.414</td>\n",
       "      <td>22</td>\n",
       "      <td>2</td>\n",
       "    </tr>\n",
       "  </tbody>\n",
       "</table>\n",
       "</div>"
      ],
      "text/plain": [
       "  #chrom  start  end  JSD_bit_  sample size  HMIX_bit_  5mC   C\n",
       "0      1     33   34     0.409            7      0.929   10  19\n",
       "1      1    107  108     0.471            7      0.750   11   3\n",
       "2      1    113  114     0.364            7      0.831    5  14\n",
       "3      1    116  117     0.095            6      0.944   17  30\n",
       "4      1    122  123     0.129            7      0.414   22   2"
      ]
     },
     "execution_count": 6,
     "metadata": {},
     "output_type": "execute_result"
    }
   ],
   "source": [
    "bed_1 = bed[bed[\"#chrom\"] == \"1\"]\n",
    "bed_1.head()"
   ]
  },
  {
   "cell_type": "code",
   "execution_count": 5,
   "id": "cf1a210a-c28b-4236-ac31-1f4400a6e68d",
   "metadata": {
    "execution": {
     "iopub.execute_input": "2024-04-24T09:08:40.994285Z",
     "iopub.status.busy": "2024-04-24T09:08:40.994037Z",
     "iopub.status.idle": "2024-04-24T09:08:41.002416Z",
     "shell.execute_reply": "2024-04-24T09:08:41.001882Z",
     "shell.execute_reply.started": "2024-04-24T09:08:40.994266Z"
    }
   },
   "outputs": [
    {
     "data": {
      "text/html": [
       "<div>\n",
       "<style scoped>\n",
       "    .dataframe tbody tr th:only-of-type {\n",
       "        vertical-align: middle;\n",
       "    }\n",
       "\n",
       "    .dataframe tbody tr th {\n",
       "        vertical-align: top;\n",
       "    }\n",
       "\n",
       "    .dataframe thead th {\n",
       "        text-align: right;\n",
       "    }\n",
       "</style>\n",
       "<table border=\"1\" class=\"dataframe\">\n",
       "  <thead>\n",
       "    <tr style=\"text-align: right;\">\n",
       "      <th></th>\n",
       "      <th>#chrom</th>\n",
       "      <th>start</th>\n",
       "      <th>end</th>\n",
       "      <th>JSD_bit_</th>\n",
       "      <th>sample size</th>\n",
       "      <th>HMIX_bit_</th>\n",
       "      <th>M</th>\n",
       "      <th>UN</th>\n",
       "    </tr>\n",
       "  </thead>\n",
       "  <tbody>\n",
       "    <tr>\n",
       "      <th>0</th>\n",
       "      <td>1</td>\n",
       "      <td>33</td>\n",
       "      <td>34</td>\n",
       "      <td>0.409</td>\n",
       "      <td>8</td>\n",
       "      <td>0.929</td>\n",
       "      <td>10</td>\n",
       "      <td>19</td>\n",
       "    </tr>\n",
       "    <tr>\n",
       "      <th>1</th>\n",
       "      <td>1</td>\n",
       "      <td>107</td>\n",
       "      <td>108</td>\n",
       "      <td>0.471</td>\n",
       "      <td>8</td>\n",
       "      <td>0.750</td>\n",
       "      <td>11</td>\n",
       "      <td>3</td>\n",
       "    </tr>\n",
       "    <tr>\n",
       "      <th>2</th>\n",
       "      <td>1</td>\n",
       "      <td>113</td>\n",
       "      <td>114</td>\n",
       "      <td>0.364</td>\n",
       "      <td>8</td>\n",
       "      <td>0.831</td>\n",
       "      <td>5</td>\n",
       "      <td>14</td>\n",
       "    </tr>\n",
       "    <tr>\n",
       "      <th>3</th>\n",
       "      <td>1</td>\n",
       "      <td>116</td>\n",
       "      <td>117</td>\n",
       "      <td>0.095</td>\n",
       "      <td>8</td>\n",
       "      <td>0.944</td>\n",
       "      <td>17</td>\n",
       "      <td>30</td>\n",
       "    </tr>\n",
       "    <tr>\n",
       "      <th>4</th>\n",
       "      <td>1</td>\n",
       "      <td>122</td>\n",
       "      <td>123</td>\n",
       "      <td>0.129</td>\n",
       "      <td>8</td>\n",
       "      <td>0.414</td>\n",
       "      <td>22</td>\n",
       "      <td>2</td>\n",
       "    </tr>\n",
       "  </tbody>\n",
       "</table>\n",
       "</div>"
      ],
      "text/plain": [
       "   #chrom  start  end  JSD_bit_  sample size  HMIX_bit_   M  UN\n",
       "0       1     33   34     0.409            8      0.929  10  19\n",
       "1       1    107  108     0.471            8      0.750  11   3\n",
       "2       1    113  114     0.364            8      0.831   5  14\n",
       "3       1    116  117     0.095            8      0.944  17  30\n",
       "4       1    122  123     0.129            8      0.414  22   2"
      ]
     },
     "execution_count": 5,
     "metadata": {},
     "output_type": "execute_result"
    }
   ],
   "source": [
    "new_arial.head()"
   ]
  },
  {
   "cell_type": "code",
   "execution_count": 16,
   "id": "10559375-4cdc-4ca7-9617-e38bb201d40f",
   "metadata": {
    "execution": {
     "iopub.execute_input": "2024-04-24T09:14:43.919723Z",
     "iopub.status.busy": "2024-04-24T09:14:43.919305Z",
     "iopub.status.idle": "2024-04-24T09:14:44.298233Z",
     "shell.execute_reply": "2024-04-24T09:14:44.297760Z",
     "shell.execute_reply.started": "2024-04-24T09:14:43.919704Z"
    }
   },
   "outputs": [],
   "source": [
    "start_arr = bed_1[\"start\"].unique()\n",
    "end_arr = bed_1[\"end\"].unique()\n",
    "arial_filtered = new_arial[new_arial[\"start\"].isin(start_arr) & new_arial[\"end\"].isin(end_arr)]"
   ]
  },
  {
   "cell_type": "code",
   "execution_count": 21,
   "id": "565aefa1-26ae-4107-b82f-087b1493b550",
   "metadata": {
    "execution": {
     "iopub.execute_input": "2024-04-24T09:16:19.042955Z",
     "iopub.status.busy": "2024-04-24T09:16:19.042355Z",
     "iopub.status.idle": "2024-04-24T09:16:19.269992Z",
     "shell.execute_reply": "2024-04-24T09:16:19.269527Z",
     "shell.execute_reply.started": "2024-04-24T09:16:19.042936Z"
    }
   },
   "outputs": [],
   "source": [
    "extra_arial_filtered = new_arial[~(new_arial[\"start\"].isin(start_arr) & new_arial[\"end\"].isin(end_arr))]"
   ]
  },
  {
   "cell_type": "code",
   "execution_count": 49,
   "id": "8af4185d-9351-4444-96ed-e6d15d4f714c",
   "metadata": {
    "execution": {
     "iopub.execute_input": "2024-04-24T09:32:32.264251Z",
     "iopub.status.busy": "2024-04-24T09:32:32.263333Z",
     "iopub.status.idle": "2024-04-24T09:32:32.319084Z",
     "shell.execute_reply": "2024-04-24T09:32:32.318464Z",
     "shell.execute_reply.started": "2024-04-24T09:32:32.264227Z"
    }
   },
   "outputs": [],
   "source": [
    "arial_filtered = arial_filtered.rename(columns={\"M\": \"5mC\", \"UN\": \"C\"}, errors=\"raise\")"
   ]
  },
  {
   "cell_type": "code",
   "execution_count": 60,
   "id": "cb033d90-e3af-43b5-8e83-e8547248dca1",
   "metadata": {
    "execution": {
     "iopub.execute_input": "2024-04-24T09:34:02.198680Z",
     "iopub.status.busy": "2024-04-24T09:34:02.198437Z",
     "iopub.status.idle": "2024-04-24T09:34:02.283040Z",
     "shell.execute_reply": "2024-04-24T09:34:02.282435Z",
     "shell.execute_reply.started": "2024-04-24T09:34:02.198662Z"
    },
    "scrolled": true
   },
   "outputs": [
    {
     "ename": "ValueError",
     "evalue": "cannot insert level_0, already exists",
     "output_type": "error",
     "traceback": [
      "\u001b[0;31m---------------------------------------------------------------------------\u001b[0m",
      "\u001b[0;31mValueError\u001b[0m                                Traceback (most recent call last)",
      "\u001b[0;32m/sctmp/eharpu/ipykernel_2390009/1037784461.py\u001b[0m in \u001b[0;36m?\u001b[0;34m()\u001b[0m\n\u001b[0;32m----> 1\u001b[0;31m \u001b[0marial_filtered\u001b[0m \u001b[0;34m=\u001b[0m \u001b[0marial_filtered\u001b[0m\u001b[0;34m.\u001b[0m\u001b[0mreset_index\u001b[0m\u001b[0;34m(\u001b[0m\u001b[0;34m)\u001b[0m\u001b[0;34m\u001b[0m\u001b[0;34m\u001b[0m\u001b[0m\n\u001b[0m\u001b[1;32m      2\u001b[0m \u001b[0mbed_1\u001b[0m \u001b[0;34m=\u001b[0m \u001b[0mbed_1\u001b[0m\u001b[0;34m.\u001b[0m\u001b[0mreset_index\u001b[0m\u001b[0;34m(\u001b[0m\u001b[0;34m)\u001b[0m\u001b[0;34m\u001b[0m\u001b[0;34m\u001b[0m\u001b[0m\n",
      "\u001b[0;32m~/data/conda/envs/environment_shannon/lib/python3.12/site-packages/pandas/core/frame.py\u001b[0m in \u001b[0;36m?\u001b[0;34m(self, level, drop, inplace, col_level, col_fill, allow_duplicates, names)\u001b[0m\n\u001b[1;32m   6455\u001b[0m                     level_values = algorithms.take(\n\u001b[1;32m   6456\u001b[0m                         \u001b[0mlevel_values\u001b[0m\u001b[0;34m,\u001b[0m \u001b[0mlab\u001b[0m\u001b[0;34m,\u001b[0m \u001b[0mallow_fill\u001b[0m\u001b[0;34m=\u001b[0m\u001b[0;32mTrue\u001b[0m\u001b[0;34m,\u001b[0m \u001b[0mfill_value\u001b[0m\u001b[0;34m=\u001b[0m\u001b[0mlev\u001b[0m\u001b[0;34m.\u001b[0m\u001b[0m_na_value\u001b[0m\u001b[0;34m\u001b[0m\u001b[0;34m\u001b[0m\u001b[0m\n\u001b[1;32m   6457\u001b[0m                     \u001b[0;34m)\u001b[0m\u001b[0;34m\u001b[0m\u001b[0;34m\u001b[0m\u001b[0m\n\u001b[1;32m   6458\u001b[0m \u001b[0;34m\u001b[0m\u001b[0m\n\u001b[0;32m-> 6459\u001b[0;31m                 new_obj.insert(\n\u001b[0m\u001b[1;32m   6460\u001b[0m                     \u001b[0;36m0\u001b[0m\u001b[0;34m,\u001b[0m\u001b[0;34m\u001b[0m\u001b[0;34m\u001b[0m\u001b[0m\n\u001b[1;32m   6461\u001b[0m                     \u001b[0mname\u001b[0m\u001b[0;34m,\u001b[0m\u001b[0;34m\u001b[0m\u001b[0;34m\u001b[0m\u001b[0m\n\u001b[1;32m   6462\u001b[0m                     \u001b[0mlevel_values\u001b[0m\u001b[0;34m,\u001b[0m\u001b[0;34m\u001b[0m\u001b[0;34m\u001b[0m\u001b[0m\n",
      "\u001b[0;32m~/data/conda/envs/environment_shannon/lib/python3.12/site-packages/pandas/core/frame.py\u001b[0m in \u001b[0;36m?\u001b[0;34m(self, loc, column, value, allow_duplicates)\u001b[0m\n\u001b[1;32m   5141\u001b[0m                 \u001b[0;34m\"'self.flags.allows_duplicate_labels' is False.\"\u001b[0m\u001b[0;34m\u001b[0m\u001b[0;34m\u001b[0m\u001b[0m\n\u001b[1;32m   5142\u001b[0m             \u001b[0;34m)\u001b[0m\u001b[0;34m\u001b[0m\u001b[0;34m\u001b[0m\u001b[0m\n\u001b[1;32m   5143\u001b[0m         \u001b[0;32mif\u001b[0m \u001b[0;32mnot\u001b[0m \u001b[0mallow_duplicates\u001b[0m \u001b[0;32mand\u001b[0m \u001b[0mcolumn\u001b[0m \u001b[0;32min\u001b[0m \u001b[0mself\u001b[0m\u001b[0;34m.\u001b[0m\u001b[0mcolumns\u001b[0m\u001b[0;34m:\u001b[0m\u001b[0;34m\u001b[0m\u001b[0;34m\u001b[0m\u001b[0m\n\u001b[1;32m   5144\u001b[0m             \u001b[0;31m# Should this be a different kind of error??\u001b[0m\u001b[0;34m\u001b[0m\u001b[0;34m\u001b[0m\u001b[0m\n\u001b[0;32m-> 5145\u001b[0;31m             \u001b[0;32mraise\u001b[0m \u001b[0mValueError\u001b[0m\u001b[0;34m(\u001b[0m\u001b[0;34mf\"\u001b[0m\u001b[0;34mcannot insert \u001b[0m\u001b[0;34m{\u001b[0m\u001b[0mcolumn\u001b[0m\u001b[0;34m}\u001b[0m\u001b[0;34m, already exists\u001b[0m\u001b[0;34m\"\u001b[0m\u001b[0;34m)\u001b[0m\u001b[0;34m\u001b[0m\u001b[0;34m\u001b[0m\u001b[0m\n\u001b[0m\u001b[1;32m   5146\u001b[0m         \u001b[0;32mif\u001b[0m \u001b[0;32mnot\u001b[0m \u001b[0mis_integer\u001b[0m\u001b[0;34m(\u001b[0m\u001b[0mloc\u001b[0m\u001b[0;34m)\u001b[0m\u001b[0;34m:\u001b[0m\u001b[0;34m\u001b[0m\u001b[0;34m\u001b[0m\u001b[0m\n\u001b[1;32m   5147\u001b[0m             \u001b[0;32mraise\u001b[0m \u001b[0mTypeError\u001b[0m\u001b[0;34m(\u001b[0m\u001b[0;34m\"loc must be int\"\u001b[0m\u001b[0;34m)\u001b[0m\u001b[0;34m\u001b[0m\u001b[0;34m\u001b[0m\u001b[0m\n\u001b[1;32m   5148\u001b[0m         \u001b[0;31m# convert non stdlib ints to satisfy typing checks\u001b[0m\u001b[0;34m\u001b[0m\u001b[0;34m\u001b[0m\u001b[0m\n",
      "\u001b[0;31mValueError\u001b[0m: cannot insert level_0, already exists"
     ]
    }
   ],
   "source": [
    "arial_filtered = arial_filtered.reset_index()\n",
    "bed_1 = bed_1.reset_index()"
   ]
  },
  {
   "cell_type": "code",
   "execution_count": 72,
   "id": "c7e4b041-a5ec-43fa-a3c9-31ddf682fd63",
   "metadata": {
    "execution": {
     "iopub.execute_input": "2024-04-24T09:36:52.003236Z",
     "iopub.status.busy": "2024-04-24T09:36:52.002837Z",
     "iopub.status.idle": "2024-04-24T09:36:52.647151Z",
     "shell.execute_reply": "2024-04-24T09:36:52.646689Z",
     "shell.execute_reply.started": "2024-04-24T09:36:52.003217Z"
    },
    "scrolled": true
   },
   "outputs": [],
   "source": [
    "comparision = bed_1.compare(arial_filtered)"
   ]
  },
  {
   "cell_type": "code",
   "execution_count": 36,
   "id": "afea1b3b-28da-430e-a78d-3cd2d5707ad0",
   "metadata": {
    "execution": {
     "iopub.execute_input": "2024-04-24T09:22:09.509895Z",
     "iopub.status.busy": "2024-04-24T09:22:09.509465Z",
     "iopub.status.idle": "2024-04-24T09:22:09.593822Z",
     "shell.execute_reply": "2024-04-24T09:22:09.593339Z",
     "shell.execute_reply.started": "2024-04-24T09:22:09.509877Z"
    }
   },
   "outputs": [],
   "source": [
    "index_bed = bed_1.index.values.tolist() \n",
    "index_arial = arial_filtered.index.values.tolist() "
   ]
  },
  {
   "cell_type": "code",
   "execution_count": 75,
   "id": "3e7548d4-f2dd-4fb0-86bf-7d12a0909157",
   "metadata": {
    "execution": {
     "iopub.execute_input": "2024-04-24T09:37:54.140473Z",
     "iopub.status.busy": "2024-04-24T09:37:54.140093Z",
     "iopub.status.idle": "2024-04-24T09:37:54.158492Z",
     "shell.execute_reply": "2024-04-24T09:37:54.158127Z",
     "shell.execute_reply.started": "2024-04-24T09:37:54.140453Z"
    }
   },
   "outputs": [
    {
     "name": "stderr",
     "output_type": "stream",
     "text": [
      "/sctmp/eharpu/ipykernel_2390009/1182665051.py:1: SettingWithCopyWarning: \n",
      "A value is trying to be set on a copy of a slice from a DataFrame.\n",
      "Try using .loc[row_indexer,col_indexer] = value instead\n",
      "\n",
      "See the caveats in the documentation: https://pandas.pydata.org/pandas-docs/stable/user_guide/indexing.html#returning-a-view-versus-a-copy\n",
      "  comparision[\"JSD_bit_\"] [\"Diff\"] = comparision[\"JSD_bit_\"] [\"self\"] - comparision[\"JSD_bit_\"] [\"other\"]\n"
     ]
    }
   ],
   "source": [
    "comparision[\"JSD_bit_\"] [\"Diff\"] = comparision[\"JSD_bit_\"] [\"self\"] - comparision[\"JSD_bit_\"] [\"other\"]"
   ]
  },
  {
   "cell_type": "code",
   "execution_count": 80,
   "id": "2aa40cb1-6f83-494b-9787-1bc38b4c6e4a",
   "metadata": {
    "execution": {
     "iopub.execute_input": "2024-04-24T09:38:50.106065Z",
     "iopub.status.busy": "2024-04-24T09:38:50.105821Z",
     "iopub.status.idle": "2024-04-24T09:38:50.120649Z",
     "shell.execute_reply": "2024-04-24T09:38:50.120155Z",
     "shell.execute_reply.started": "2024-04-24T09:38:50.106046Z"
    }
   },
   "outputs": [],
   "source": [
    "diff = (comparision[\"JSD_bit_\"] [\"self\"] - comparision[\"JSD_bit_\"] [\"other\"]).abs()"
   ]
  },
  {
   "cell_type": "code",
   "execution_count": 81,
   "id": "6aa90c06-1917-49a8-9c09-8c0c7930ef09",
   "metadata": {
    "execution": {
     "iopub.execute_input": "2024-04-24T09:38:50.756651Z",
     "iopub.status.busy": "2024-04-24T09:38:50.756338Z",
     "iopub.status.idle": "2024-04-24T09:38:50.771287Z",
     "shell.execute_reply": "2024-04-24T09:38:50.770918Z",
     "shell.execute_reply.started": "2024-04-24T09:38:50.756635Z"
    }
   },
   "outputs": [
    {
     "data": {
      "text/plain": [
       "array([  nan, 0.063, 0.971, ..., 0.983, 0.099, 0.862])"
      ]
     },
     "execution_count": 81,
     "metadata": {},
     "output_type": "execute_result"
    }
   ],
   "source": [
    "diff.unique()"
   ]
  },
  {
   "cell_type": "code",
   "execution_count": 82,
   "id": "81726666-c51d-4c45-88ac-1c7dc327e0fb",
   "metadata": {
    "execution": {
     "iopub.execute_input": "2024-04-24T09:41:21.452404Z",
     "iopub.status.busy": "2024-04-24T09:41:21.451922Z",
     "iopub.status.idle": "2024-04-24T09:41:21.473338Z",
     "shell.execute_reply": "2024-04-24T09:41:21.472959Z",
     "shell.execute_reply.started": "2024-04-24T09:41:21.452386Z"
    }
   },
   "outputs": [
    {
     "data": {
      "text/html": [
       "<div>\n",
       "<style scoped>\n",
       "    .dataframe tbody tr th:only-of-type {\n",
       "        vertical-align: middle;\n",
       "    }\n",
       "\n",
       "    .dataframe tbody tr th {\n",
       "        vertical-align: top;\n",
       "    }\n",
       "\n",
       "    .dataframe thead tr th {\n",
       "        text-align: left;\n",
       "    }\n",
       "</style>\n",
       "<table border=\"1\" class=\"dataframe\">\n",
       "  <thead>\n",
       "    <tr>\n",
       "      <th></th>\n",
       "      <th colspan=\"2\" halign=\"left\">index</th>\n",
       "      <th colspan=\"2\" halign=\"left\">#chrom</th>\n",
       "      <th colspan=\"2\" halign=\"left\">start</th>\n",
       "      <th colspan=\"2\" halign=\"left\">end</th>\n",
       "      <th colspan=\"2\" halign=\"left\">JSD_bit_</th>\n",
       "      <th colspan=\"2\" halign=\"left\">sample size</th>\n",
       "      <th colspan=\"2\" halign=\"left\">HMIX_bit_</th>\n",
       "      <th colspan=\"2\" halign=\"left\">5mC</th>\n",
       "      <th colspan=\"2\" halign=\"left\">C</th>\n",
       "    </tr>\n",
       "    <tr>\n",
       "      <th></th>\n",
       "      <th>self</th>\n",
       "      <th>other</th>\n",
       "      <th>self</th>\n",
       "      <th>other</th>\n",
       "      <th>self</th>\n",
       "      <th>other</th>\n",
       "      <th>self</th>\n",
       "      <th>other</th>\n",
       "      <th>self</th>\n",
       "      <th>other</th>\n",
       "      <th>self</th>\n",
       "      <th>other</th>\n",
       "      <th>self</th>\n",
       "      <th>other</th>\n",
       "      <th>self</th>\n",
       "      <th>other</th>\n",
       "      <th>self</th>\n",
       "      <th>other</th>\n",
       "    </tr>\n",
       "  </thead>\n",
       "  <tbody>\n",
       "    <tr>\n",
       "      <th>0</th>\n",
       "      <td>NaN</td>\n",
       "      <td>NaN</td>\n",
       "      <td>1</td>\n",
       "      <td>1</td>\n",
       "      <td>NaN</td>\n",
       "      <td>NaN</td>\n",
       "      <td>NaN</td>\n",
       "      <td>NaN</td>\n",
       "      <td>NaN</td>\n",
       "      <td>NaN</td>\n",
       "      <td>7.0</td>\n",
       "      <td>8.0</td>\n",
       "      <td>NaN</td>\n",
       "      <td>NaN</td>\n",
       "      <td>NaN</td>\n",
       "      <td>NaN</td>\n",
       "      <td>NaN</td>\n",
       "      <td>NaN</td>\n",
       "    </tr>\n",
       "    <tr>\n",
       "      <th>1</th>\n",
       "      <td>NaN</td>\n",
       "      <td>NaN</td>\n",
       "      <td>1</td>\n",
       "      <td>1</td>\n",
       "      <td>NaN</td>\n",
       "      <td>NaN</td>\n",
       "      <td>NaN</td>\n",
       "      <td>NaN</td>\n",
       "      <td>NaN</td>\n",
       "      <td>NaN</td>\n",
       "      <td>7.0</td>\n",
       "      <td>8.0</td>\n",
       "      <td>NaN</td>\n",
       "      <td>NaN</td>\n",
       "      <td>NaN</td>\n",
       "      <td>NaN</td>\n",
       "      <td>NaN</td>\n",
       "      <td>NaN</td>\n",
       "    </tr>\n",
       "    <tr>\n",
       "      <th>2</th>\n",
       "      <td>NaN</td>\n",
       "      <td>NaN</td>\n",
       "      <td>1</td>\n",
       "      <td>1</td>\n",
       "      <td>NaN</td>\n",
       "      <td>NaN</td>\n",
       "      <td>NaN</td>\n",
       "      <td>NaN</td>\n",
       "      <td>NaN</td>\n",
       "      <td>NaN</td>\n",
       "      <td>7.0</td>\n",
       "      <td>8.0</td>\n",
       "      <td>NaN</td>\n",
       "      <td>NaN</td>\n",
       "      <td>NaN</td>\n",
       "      <td>NaN</td>\n",
       "      <td>NaN</td>\n",
       "      <td>NaN</td>\n",
       "    </tr>\n",
       "    <tr>\n",
       "      <th>3</th>\n",
       "      <td>NaN</td>\n",
       "      <td>NaN</td>\n",
       "      <td>1</td>\n",
       "      <td>1</td>\n",
       "      <td>NaN</td>\n",
       "      <td>NaN</td>\n",
       "      <td>NaN</td>\n",
       "      <td>NaN</td>\n",
       "      <td>NaN</td>\n",
       "      <td>NaN</td>\n",
       "      <td>6.0</td>\n",
       "      <td>8.0</td>\n",
       "      <td>NaN</td>\n",
       "      <td>NaN</td>\n",
       "      <td>NaN</td>\n",
       "      <td>NaN</td>\n",
       "      <td>NaN</td>\n",
       "      <td>NaN</td>\n",
       "    </tr>\n",
       "    <tr>\n",
       "      <th>4</th>\n",
       "      <td>NaN</td>\n",
       "      <td>NaN</td>\n",
       "      <td>1</td>\n",
       "      <td>1</td>\n",
       "      <td>NaN</td>\n",
       "      <td>NaN</td>\n",
       "      <td>NaN</td>\n",
       "      <td>NaN</td>\n",
       "      <td>NaN</td>\n",
       "      <td>NaN</td>\n",
       "      <td>7.0</td>\n",
       "      <td>8.0</td>\n",
       "      <td>NaN</td>\n",
       "      <td>NaN</td>\n",
       "      <td>NaN</td>\n",
       "      <td>NaN</td>\n",
       "      <td>NaN</td>\n",
       "      <td>NaN</td>\n",
       "    </tr>\n",
       "    <tr>\n",
       "      <th>...</th>\n",
       "      <td>...</td>\n",
       "      <td>...</td>\n",
       "      <td>...</td>\n",
       "      <td>...</td>\n",
       "      <td>...</td>\n",
       "      <td>...</td>\n",
       "      <td>...</td>\n",
       "      <td>...</td>\n",
       "      <td>...</td>\n",
       "      <td>...</td>\n",
       "      <td>...</td>\n",
       "      <td>...</td>\n",
       "      <td>...</td>\n",
       "      <td>...</td>\n",
       "      <td>...</td>\n",
       "      <td>...</td>\n",
       "      <td>...</td>\n",
       "      <td>...</td>\n",
       "    </tr>\n",
       "    <tr>\n",
       "      <th>1256934</th>\n",
       "      <td>1256934.0</td>\n",
       "      <td>1284471.0</td>\n",
       "      <td>1</td>\n",
       "      <td>1</td>\n",
       "      <td>30427478.0</td>\n",
       "      <td>30410939.0</td>\n",
       "      <td>30427479.0</td>\n",
       "      <td>30410940.0</td>\n",
       "      <td>0.108</td>\n",
       "      <td>0.044</td>\n",
       "      <td>5.0</td>\n",
       "      <td>8.0</td>\n",
       "      <td>0.187</td>\n",
       "      <td>0.439</td>\n",
       "      <td>34.0</td>\n",
       "      <td>1.0</td>\n",
       "      <td>1.0</td>\n",
       "      <td>10.0</td>\n",
       "    </tr>\n",
       "    <tr>\n",
       "      <th>1256935</th>\n",
       "      <td>1256935.0</td>\n",
       "      <td>1284472.0</td>\n",
       "      <td>1</td>\n",
       "      <td>1</td>\n",
       "      <td>30427486.0</td>\n",
       "      <td>30410951.0</td>\n",
       "      <td>30427487.0</td>\n",
       "      <td>30410952.0</td>\n",
       "      <td>0.076</td>\n",
       "      <td>0.000</td>\n",
       "      <td>7.0</td>\n",
       "      <td>8.0</td>\n",
       "      <td>0.235</td>\n",
       "      <td>0.000</td>\n",
       "      <td>25.0</td>\n",
       "      <td>0.0</td>\n",
       "      <td>1.0</td>\n",
       "      <td>6.0</td>\n",
       "    </tr>\n",
       "    <tr>\n",
       "      <th>1256936</th>\n",
       "      <td>1256936.0</td>\n",
       "      <td>1284473.0</td>\n",
       "      <td>1</td>\n",
       "      <td>1</td>\n",
       "      <td>30427488.0</td>\n",
       "      <td>30422642.0</td>\n",
       "      <td>30427489.0</td>\n",
       "      <td>30422643.0</td>\n",
       "      <td>0.105</td>\n",
       "      <td>0.000</td>\n",
       "      <td>4.0</td>\n",
       "      <td>8.0</td>\n",
       "      <td>0.345</td>\n",
       "      <td>0.000</td>\n",
       "      <td>29.0</td>\n",
       "      <td>0.0</td>\n",
       "      <td>2.0</td>\n",
       "      <td>9.0</td>\n",
       "    </tr>\n",
       "    <tr>\n",
       "      <th>1256937</th>\n",
       "      <td>1256937.0</td>\n",
       "      <td>1284474.0</td>\n",
       "      <td>1</td>\n",
       "      <td>1</td>\n",
       "      <td>30427529.0</td>\n",
       "      <td>30422770.0</td>\n",
       "      <td>30427530.0</td>\n",
       "      <td>30422771.0</td>\n",
       "      <td>0.081</td>\n",
       "      <td>0.000</td>\n",
       "      <td>7.0</td>\n",
       "      <td>8.0</td>\n",
       "      <td>0.402</td>\n",
       "      <td>0.000</td>\n",
       "      <td>46.0</td>\n",
       "      <td>0.0</td>\n",
       "      <td>4.0</td>\n",
       "      <td>12.0</td>\n",
       "    </tr>\n",
       "    <tr>\n",
       "      <th>1256938</th>\n",
       "      <td>1256938.0</td>\n",
       "      <td>1284475.0</td>\n",
       "      <td>1</td>\n",
       "      <td>1</td>\n",
       "      <td>30427531.0</td>\n",
       "      <td>30422781.0</td>\n",
       "      <td>30427532.0</td>\n",
       "      <td>30422782.0</td>\n",
       "      <td>0.242</td>\n",
       "      <td>0.000</td>\n",
       "      <td>6.0</td>\n",
       "      <td>8.0</td>\n",
       "      <td>0.242</td>\n",
       "      <td>0.000</td>\n",
       "      <td>24.0</td>\n",
       "      <td>0.0</td>\n",
       "      <td>1.0</td>\n",
       "      <td>12.0</td>\n",
       "    </tr>\n",
       "  </tbody>\n",
       "</table>\n",
       "<p>1256939 rows × 18 columns</p>\n",
       "</div>"
      ],
      "text/plain": [
       "             index            #chrom             start              \\\n",
       "              self      other   self other        self       other   \n",
       "0              NaN        NaN      1     1         NaN         NaN   \n",
       "1              NaN        NaN      1     1         NaN         NaN   \n",
       "2              NaN        NaN      1     1         NaN         NaN   \n",
       "3              NaN        NaN      1     1         NaN         NaN   \n",
       "4              NaN        NaN      1     1         NaN         NaN   \n",
       "...            ...        ...    ...   ...         ...         ...   \n",
       "1256934  1256934.0  1284471.0      1     1  30427478.0  30410939.0   \n",
       "1256935  1256935.0  1284472.0      1     1  30427486.0  30410951.0   \n",
       "1256936  1256936.0  1284473.0      1     1  30427488.0  30422642.0   \n",
       "1256937  1256937.0  1284474.0      1     1  30427529.0  30422770.0   \n",
       "1256938  1256938.0  1284475.0      1     1  30427531.0  30422781.0   \n",
       "\n",
       "                end             JSD_bit_        sample size       HMIX_bit_  \\\n",
       "               self       other     self  other        self other      self   \n",
       "0               NaN         NaN      NaN    NaN         7.0   8.0       NaN   \n",
       "1               NaN         NaN      NaN    NaN         7.0   8.0       NaN   \n",
       "2               NaN         NaN      NaN    NaN         7.0   8.0       NaN   \n",
       "3               NaN         NaN      NaN    NaN         6.0   8.0       NaN   \n",
       "4               NaN         NaN      NaN    NaN         7.0   8.0       NaN   \n",
       "...             ...         ...      ...    ...         ...   ...       ...   \n",
       "1256934  30427479.0  30410940.0    0.108  0.044         5.0   8.0     0.187   \n",
       "1256935  30427487.0  30410952.0    0.076  0.000         7.0   8.0     0.235   \n",
       "1256936  30427489.0  30422643.0    0.105  0.000         4.0   8.0     0.345   \n",
       "1256937  30427530.0  30422771.0    0.081  0.000         7.0   8.0     0.402   \n",
       "1256938  30427532.0  30422782.0    0.242  0.000         6.0   8.0     0.242   \n",
       "\n",
       "                 5mC          C        \n",
       "         other  self other self other  \n",
       "0          NaN   NaN   NaN  NaN   NaN  \n",
       "1          NaN   NaN   NaN  NaN   NaN  \n",
       "2          NaN   NaN   NaN  NaN   NaN  \n",
       "3          NaN   NaN   NaN  NaN   NaN  \n",
       "4          NaN   NaN   NaN  NaN   NaN  \n",
       "...        ...   ...   ...  ...   ...  \n",
       "1256934  0.439  34.0   1.0  1.0  10.0  \n",
       "1256935  0.000  25.0   0.0  1.0   6.0  \n",
       "1256936  0.000  29.0   0.0  2.0   9.0  \n",
       "1256937  0.000  46.0   0.0  4.0  12.0  \n",
       "1256938  0.000  24.0   0.0  1.0  12.0  \n",
       "\n",
       "[1256939 rows x 18 columns]"
      ]
     },
     "execution_count": 82,
     "metadata": {},
     "output_type": "execute_result"
    }
   ],
   "source": [
    "comparision"
   ]
  },
  {
   "cell_type": "code",
   "execution_count": 107,
   "id": "a73aeff1-523b-4a37-9bb5-087223bbef6d",
   "metadata": {
    "execution": {
     "iopub.execute_input": "2024-04-24T11:16:28.714830Z",
     "iopub.status.busy": "2024-04-24T11:16:28.714595Z",
     "iopub.status.idle": "2024-04-24T11:16:43.790353Z",
     "shell.execute_reply": "2024-04-24T11:16:43.789957Z",
     "shell.execute_reply.started": "2024-04-24T11:16:28.714811Z"
    }
   },
   "outputs": [
    {
     "name": "stdout",
     "output_type": "stream",
     "text": [
      "All (start, end) pairs from bed_1 are present in arial_filtered.\n"
     ]
    }
   ],
   "source": [
    "path_bed = \"/shares/grossniklaus.botinst.uzh/eharputluoglu/meta_methylome/results/shannon/div_CHG_Col-0_wt_aerial-part.bed.gz\"\n",
    "\n",
    "\n",
    "bed = pd.read_csv(path_bed, sep=\"\\t\", low_memory=False)\n",
    "new_arial = pd.read_csv(\"/home/eharpu/shannon/output_results_5_6.csv\", sep=\"\\t\")\n",
    "\n",
    "# Filter for Chr 1\n",
    "bed_1 = bed[bed[\"#chrom\"] == \"1\"]\n",
    "\n",
    "# Create a set of unique (start, end) tuples from bed_1\n",
    "unique_start_end = set(zip(bed_1[\"start\"], bed_1[\"end\"]))\n",
    "\n",
    "# Filter new_arial for rows where (start, end) is in the unique_start_end set\n",
    "arial_filtered = new_arial[new_arial.apply(lambda x: (x['start'], x['end']) in unique_start_end, axis=1)]\n",
    "\n",
    "# Sort arial_filtered by the 'start' column\n",
    "arial_filtered = arial_filtered.sort_values(by='start')\n",
    "\n",
    "# Reset index for alignment after sorting\n",
    "arial_filtered = arial_filtered.reset_index(drop=True)\n",
    "bed_1 = bed_1.reset_index(drop=True)\n",
    "\n",
    "# Rename column names to match\n",
    "arial_filtered = arial_filtered.rename(columns={\"M\": \"5mC\", \"UN\": \"C\"}, errors=\"raise\")\n",
    "\n",
    "# Optionally, check if all combinations from bed_1 are present in arial_filtered\n",
    "missing_pairs = unique_start_end - set(zip(arial_filtered[\"start\"], arial_filtered[\"end\"]))\n",
    "if missing_pairs:\n",
    "    print(\"Missing (start, end) pairs in arial_filtered:\", missing_pairs)\n",
    "else:\n",
    "    print(\"All (start, end) pairs from bed_1 are present in arial_filtered.\")\n",
    "\n"
   ]
  },
  {
   "cell_type": "code",
   "execution_count": null,
   "id": "706e7b94-6d56-47ab-a957-8ea08c1de5c5",
   "metadata": {},
   "outputs": [],
   "source": []
  }
 ],
 "metadata": {
  "kernelspec": {
   "display_name": "environment_shannon",
   "language": "python",
   "name": "environment_shannon"
  },
  "language_info": {
   "codemirror_mode": {
    "name": "ipython",
    "version": 3
   },
   "file_extension": ".py",
   "mimetype": "text/x-python",
   "name": "python",
   "nbconvert_exporter": "python",
   "pygments_lexer": "ipython3",
   "version": "3.12.2"
  },
  "widgets": {
   "application/vnd.jupyter.widget-state+json": {
    "state": {},
    "version_major": 2,
    "version_minor": 0
   }
  }
 },
 "nbformat": 4,
 "nbformat_minor": 5
}
