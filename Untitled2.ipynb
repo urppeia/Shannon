{
 "cells": [
  {
   "cell_type": "code",
   "execution_count": 2,
   "id": "458cbd88-a0f4-4626-bbb1-8b0a0438681d",
   "metadata": {
    "execution": {
     "iopub.execute_input": "2024-04-17T13:04:20.852684Z",
     "iopub.status.busy": "2024-04-17T13:04:20.852242Z",
     "iopub.status.idle": "2024-04-17T13:04:23.899132Z",
     "shell.execute_reply": "2024-04-17T13:04:23.898655Z",
     "shell.execute_reply.started": "2024-04-17T13:04:20.852661Z"
    }
   },
   "outputs": [],
   "source": [
    "import pandas as pd\n"
   ]
  },
  {
   "cell_type": "code",
   "execution_count": 3,
   "id": "ada7de7a-1c67-467d-a42d-fd4182af3d00",
   "metadata": {
    "execution": {
     "iopub.execute_input": "2024-04-17T13:04:23.905442Z",
     "iopub.status.busy": "2024-04-17T13:04:23.905068Z",
     "iopub.status.idle": "2024-04-17T13:04:23.909119Z",
     "shell.execute_reply": "2024-04-17T13:04:23.908588Z",
     "shell.execute_reply.started": "2024-04-17T13:04:23.905416Z"
    }
   },
   "outputs": [],
   "source": [
    "path_bed = \"/shares/grossniklaus.botinst.uzh/eharputluoglu/meta_methylome/results/shannon/div_CHG_Col-0_wt_aerial-part.bed.gz\"\n",
    "path_chr1_aerial = \"/shares/grossniklaus.botinst.uzh/eharputluoglu/shannonFiles/output_metadata_CHG.Col-0.wt.aerial-part.csv\"\n",
    "path_chr2_aerial = \"/shares/grossniklaus.botinst.uzh/eharputluoglu/shannonFiles2/output_metadata_CHG.Col-0.wt.aerial-part.csv\"\n",
    "path_chr3_aerial = \"/shares/grossniklaus.botinst.uzh/eharputluoglu/shannonFiles3/output_metadata_CHG.Col-0.wt.aerial-part.csv\"\n",
    "path_chr4_aerial = \"/shares/grossniklaus.botinst.uzh/eharputluoglu/shannonFiles4/output_metadata_CHG.Col-0.wt.aerial-part.csv\"\n",
    "path_chr5_aerial = \"/shares/grossniklaus.botinst.uzh/eharputluoglu/shannonFiles5/output_metadata_CHG.Col-0.wt.aerial-part.csv\"\n"
   ]
  },
  {
   "cell_type": "code",
   "execution_count": 4,
   "id": "98547ccf-77da-4151-85cb-7e265588627e",
   "metadata": {
    "execution": {
     "iopub.execute_input": "2024-04-17T13:04:23.910492Z",
     "iopub.status.busy": "2024-04-17T13:04:23.910117Z",
     "iopub.status.idle": "2024-04-17T13:04:32.030077Z",
     "shell.execute_reply": "2024-04-17T13:04:32.029546Z",
     "shell.execute_reply.started": "2024-04-17T13:04:23.910475Z"
    }
   },
   "outputs": [],
   "source": [
    "bed = pd.read_csv(path_bed, sep = \"\\t\", low_memory = False)\n",
    "arial = pd.read_csv(path_chr1_aerial, sep = \"\\t\", low_memory = False)\n",
    "arial2 = pd.read_csv(path_chr2_aerial, sep = \"\\t\", low_memory = False)\n",
    "arial3 = pd.read_csv(path_chr3_aerial, sep = \"\\t\", low_memory = False)\n",
    "arial4 = pd.read_csv(path_chr4_aerial, sep = \"\\t\", low_memory = False)\n",
    "arial5 = pd.read_csv(path_chr5_aerial, sep = \"\\t\", low_memory = False)\n"
   ]
  },
  {
   "cell_type": "code",
   "execution_count": 5,
   "id": "a99372f6-b9d2-4e53-b2f6-cf120e4cf15b",
   "metadata": {
    "execution": {
     "iopub.execute_input": "2024-04-17T13:04:32.050454Z",
     "iopub.status.busy": "2024-04-17T13:04:32.050001Z",
     "iopub.status.idle": "2024-04-17T13:04:37.823740Z",
     "shell.execute_reply": "2024-04-17T13:04:37.823093Z",
     "shell.execute_reply.started": "2024-04-17T13:04:32.050435Z"
    }
   },
   "outputs": [],
   "source": [
    "path_ = \"/shares/grossniklaus.botinst.uzh/eharputluoglu/meta_methylome/results/shannon/div_CHG_Col-0_wt_rosette.bed.gz\"\n",
    "bed_rosette = pd.read_csv(path_bed, sep = \"\\t\", low_memory = False)\n",
    "path_chr1_rosette = \"/shares/grossniklaus.botinst.uzh/eharputluoglu/shannonFiles/output_metadata_CHG.Col-0.wt.rosette.csv\"\n",
    "rosette = pd.read_csv(path_chr1_rosette, sep = \"\\t\", low_memory = False)"
   ]
  },
  {
   "cell_type": "code",
   "execution_count": 6,
   "id": "0b02b152-5557-4136-9f86-36978cebb696",
   "metadata": {
    "execution": {
     "iopub.execute_input": "2024-04-17T13:04:37.825230Z",
     "iopub.status.busy": "2024-04-17T13:04:37.824766Z",
     "iopub.status.idle": "2024-04-17T13:04:37.831942Z",
     "shell.execute_reply": "2024-04-17T13:04:37.831457Z",
     "shell.execute_reply.started": "2024-04-17T13:04:37.825199Z"
    }
   },
   "outputs": [
    {
     "data": {
      "text/plain": [
       "1.476"
      ]
     },
     "execution_count": 6,
     "metadata": {},
     "output_type": "execute_result"
    }
   ],
   "source": [
    "rosette[\"JSD_bit_\"].max()"
   ]
  },
  {
   "cell_type": "code",
   "execution_count": 7,
   "id": "9c197b90-6053-423a-8cb3-3a26a4414545",
   "metadata": {
    "execution": {
     "iopub.execute_input": "2024-04-17T13:04:37.833389Z",
     "iopub.status.busy": "2024-04-17T13:04:37.832667Z",
     "iopub.status.idle": "2024-04-17T13:04:37.849185Z",
     "shell.execute_reply": "2024-04-17T13:04:37.848769Z",
     "shell.execute_reply.started": "2024-04-17T13:04:37.833359Z"
    }
   },
   "outputs": [
    {
     "data": {
      "text/plain": [
       "1.0"
      ]
     },
     "execution_count": 7,
     "metadata": {},
     "output_type": "execute_result"
    }
   ],
   "source": [
    "bed_rosette[\"JSD_bit_\"].max()"
   ]
  },
  {
   "cell_type": "code",
   "execution_count": 8,
   "id": "553650df-1551-4eb9-bf4c-601ac7a9d389",
   "metadata": {
    "execution": {
     "iopub.execute_input": "2024-04-17T13:04:37.850090Z",
     "iopub.status.busy": "2024-04-17T13:04:37.849917Z",
     "iopub.status.idle": "2024-04-17T13:04:38.006757Z",
     "shell.execute_reply": "2024-04-17T13:04:38.006335Z",
     "shell.execute_reply.started": "2024-04-17T13:04:37.850076Z"
    }
   },
   "outputs": [
    {
     "data": {
      "text/plain": [
       "array(['1', '2', '3', '4', '5', 'Mt', 'Pt'], dtype=object)"
      ]
     },
     "execution_count": 8,
     "metadata": {},
     "output_type": "execute_result"
    }
   ],
   "source": [
    "bed[\"#chrom\"].unique()"
   ]
  },
  {
   "cell_type": "code",
   "execution_count": 9,
   "id": "0fd39557-2eb9-453b-97b6-6754a8e118df",
   "metadata": {
    "execution": {
     "iopub.execute_input": "2024-04-17T13:04:38.007588Z",
     "iopub.status.busy": "2024-04-17T13:04:38.007419Z",
     "iopub.status.idle": "2024-04-17T13:04:38.140344Z",
     "shell.execute_reply": "2024-04-17T13:04:38.139822Z",
     "shell.execute_reply.started": "2024-04-17T13:04:38.007573Z"
    }
   },
   "outputs": [],
   "source": [
    "bed[\"#chrom\"] =bed[\"#chrom\"].astype(\"string\")"
   ]
  },
  {
   "cell_type": "code",
   "execution_count": 96,
   "id": "e1154ded-eae5-4446-a40d-e410ddff547c",
   "metadata": {
    "execution": {
     "iopub.execute_input": "2024-04-17T15:41:04.984596Z",
     "iopub.status.busy": "2024-04-17T15:41:04.984279Z",
     "iopub.status.idle": "2024-04-17T15:41:05.319749Z",
     "shell.execute_reply": "2024-04-17T15:41:05.319265Z",
     "shell.execute_reply.started": "2024-04-17T15:41:04.984577Z"
    }
   },
   "outputs": [],
   "source": [
    "bed_1 = bed[bed[\"#chrom\"] == \"1\"]"
   ]
  },
  {
   "cell_type": "code",
   "execution_count": 97,
   "id": "b1070622-4dee-4977-9e31-8c4b20b432f6",
   "metadata": {
    "execution": {
     "iopub.execute_input": "2024-04-17T15:41:05.321009Z",
     "iopub.status.busy": "2024-04-17T15:41:05.320740Z",
     "iopub.status.idle": "2024-04-17T15:41:06.665361Z",
     "shell.execute_reply": "2024-04-17T15:41:06.664862Z",
     "shell.execute_reply.started": "2024-04-17T15:41:05.320991Z"
    }
   },
   "outputs": [],
   "source": [
    "start_arr = bed[\"start\"].unique()\n",
    "end_arr = bed[\"end\"].unique()"
   ]
  },
  {
   "cell_type": "code",
   "execution_count": 98,
   "id": "f2080e5d-003e-447e-8481-44ec3d8b821f",
   "metadata": {
    "execution": {
     "iopub.execute_input": "2024-04-17T15:41:06.666350Z",
     "iopub.status.busy": "2024-04-17T15:41:06.666159Z",
     "iopub.status.idle": "2024-04-17T15:41:07.317594Z",
     "shell.execute_reply": "2024-04-17T15:41:07.317083Z",
     "shell.execute_reply.started": "2024-04-17T15:41:06.666333Z"
    }
   },
   "outputs": [],
   "source": [
    "arial_filtered = arial[arial[\"start\"].isin(start_arr) & arial[\"end\"].isin(end_arr)]"
   ]
  },
  {
   "cell_type": "code",
   "execution_count": 99,
   "id": "d9d31011-6aa1-4bf7-b42e-b00dd056cb67",
   "metadata": {
    "execution": {
     "iopub.execute_input": "2024-04-17T15:41:07.344116Z",
     "iopub.status.busy": "2024-04-17T15:41:07.343963Z",
     "iopub.status.idle": "2024-04-17T15:41:07.352044Z",
     "shell.execute_reply": "2024-04-17T15:41:07.351689Z",
     "shell.execute_reply.started": "2024-04-17T15:41:07.344102Z"
    }
   },
   "outputs": [
    {
     "data": {
      "text/html": [
       "<div>\n",
       "<style scoped>\n",
       "    .dataframe tbody tr th:only-of-type {\n",
       "        vertical-align: middle;\n",
       "    }\n",
       "\n",
       "    .dataframe tbody tr th {\n",
       "        vertical-align: top;\n",
       "    }\n",
       "\n",
       "    .dataframe thead th {\n",
       "        text-align: right;\n",
       "    }\n",
       "</style>\n",
       "<table border=\"1\" class=\"dataframe\">\n",
       "  <thead>\n",
       "    <tr style=\"text-align: right;\">\n",
       "      <th></th>\n",
       "      <th>#chrom</th>\n",
       "      <th>start</th>\n",
       "      <th>end</th>\n",
       "      <th>JSD_bit_</th>\n",
       "      <th>sample size</th>\n",
       "      <th>HMIX_bit_</th>\n",
       "      <th>5mC</th>\n",
       "      <th>C</th>\n",
       "    </tr>\n",
       "  </thead>\n",
       "  <tbody>\n",
       "    <tr>\n",
       "      <th>0</th>\n",
       "      <td>1</td>\n",
       "      <td>33</td>\n",
       "      <td>34</td>\n",
       "      <td>0.409</td>\n",
       "      <td>7</td>\n",
       "      <td>0.929</td>\n",
       "      <td>10</td>\n",
       "      <td>19</td>\n",
       "    </tr>\n",
       "    <tr>\n",
       "      <th>1</th>\n",
       "      <td>1</td>\n",
       "      <td>107</td>\n",
       "      <td>108</td>\n",
       "      <td>0.471</td>\n",
       "      <td>7</td>\n",
       "      <td>0.750</td>\n",
       "      <td>11</td>\n",
       "      <td>3</td>\n",
       "    </tr>\n",
       "    <tr>\n",
       "      <th>2</th>\n",
       "      <td>1</td>\n",
       "      <td>113</td>\n",
       "      <td>114</td>\n",
       "      <td>0.364</td>\n",
       "      <td>7</td>\n",
       "      <td>0.831</td>\n",
       "      <td>5</td>\n",
       "      <td>14</td>\n",
       "    </tr>\n",
       "    <tr>\n",
       "      <th>3</th>\n",
       "      <td>1</td>\n",
       "      <td>116</td>\n",
       "      <td>117</td>\n",
       "      <td>0.095</td>\n",
       "      <td>6</td>\n",
       "      <td>0.944</td>\n",
       "      <td>17</td>\n",
       "      <td>30</td>\n",
       "    </tr>\n",
       "    <tr>\n",
       "      <th>4</th>\n",
       "      <td>1</td>\n",
       "      <td>122</td>\n",
       "      <td>123</td>\n",
       "      <td>0.129</td>\n",
       "      <td>7</td>\n",
       "      <td>0.414</td>\n",
       "      <td>22</td>\n",
       "      <td>2</td>\n",
       "    </tr>\n",
       "    <tr>\n",
       "      <th>...</th>\n",
       "      <td>...</td>\n",
       "      <td>...</td>\n",
       "      <td>...</td>\n",
       "      <td>...</td>\n",
       "      <td>...</td>\n",
       "      <td>...</td>\n",
       "      <td>...</td>\n",
       "      <td>...</td>\n",
       "    </tr>\n",
       "    <tr>\n",
       "      <th>1256934</th>\n",
       "      <td>1</td>\n",
       "      <td>30427478</td>\n",
       "      <td>30427479</td>\n",
       "      <td>0.108</td>\n",
       "      <td>5</td>\n",
       "      <td>0.187</td>\n",
       "      <td>34</td>\n",
       "      <td>1</td>\n",
       "    </tr>\n",
       "    <tr>\n",
       "      <th>1256935</th>\n",
       "      <td>1</td>\n",
       "      <td>30427486</td>\n",
       "      <td>30427487</td>\n",
       "      <td>0.076</td>\n",
       "      <td>7</td>\n",
       "      <td>0.235</td>\n",
       "      <td>25</td>\n",
       "      <td>1</td>\n",
       "    </tr>\n",
       "    <tr>\n",
       "      <th>1256936</th>\n",
       "      <td>1</td>\n",
       "      <td>30427488</td>\n",
       "      <td>30427489</td>\n",
       "      <td>0.105</td>\n",
       "      <td>4</td>\n",
       "      <td>0.345</td>\n",
       "      <td>29</td>\n",
       "      <td>2</td>\n",
       "    </tr>\n",
       "    <tr>\n",
       "      <th>1256937</th>\n",
       "      <td>1</td>\n",
       "      <td>30427529</td>\n",
       "      <td>30427530</td>\n",
       "      <td>0.081</td>\n",
       "      <td>7</td>\n",
       "      <td>0.402</td>\n",
       "      <td>46</td>\n",
       "      <td>4</td>\n",
       "    </tr>\n",
       "    <tr>\n",
       "      <th>1256938</th>\n",
       "      <td>1</td>\n",
       "      <td>30427531</td>\n",
       "      <td>30427532</td>\n",
       "      <td>0.242</td>\n",
       "      <td>6</td>\n",
       "      <td>0.242</td>\n",
       "      <td>24</td>\n",
       "      <td>1</td>\n",
       "    </tr>\n",
       "  </tbody>\n",
       "</table>\n",
       "<p>1256939 rows × 8 columns</p>\n",
       "</div>"
      ],
      "text/plain": [
       "        #chrom     start       end  JSD_bit_  sample size  HMIX_bit_  5mC   C\n",
       "0            1        33        34     0.409            7      0.929   10  19\n",
       "1            1       107       108     0.471            7      0.750   11   3\n",
       "2            1       113       114     0.364            7      0.831    5  14\n",
       "3            1       116       117     0.095            6      0.944   17  30\n",
       "4            1       122       123     0.129            7      0.414   22   2\n",
       "...        ...       ...       ...       ...          ...        ...  ...  ..\n",
       "1256934      1  30427478  30427479     0.108            5      0.187   34   1\n",
       "1256935      1  30427486  30427487     0.076            7      0.235   25   1\n",
       "1256936      1  30427488  30427489     0.105            4      0.345   29   2\n",
       "1256937      1  30427529  30427530     0.081            7      0.402   46   4\n",
       "1256938      1  30427531  30427532     0.242            6      0.242   24   1\n",
       "\n",
       "[1256939 rows x 8 columns]"
      ]
     },
     "execution_count": 99,
     "metadata": {},
     "output_type": "execute_result"
    }
   ],
   "source": [
    "bed_1"
   ]
  },
  {
   "cell_type": "code",
   "execution_count": 15,
   "id": "294b1b08-26ab-4243-aabc-ee6cd52ab701",
   "metadata": {
    "execution": {
     "iopub.execute_input": "2024-04-17T13:04:46.963435Z",
     "iopub.status.busy": "2024-04-17T13:04:46.963089Z",
     "iopub.status.idle": "2024-04-17T13:04:46.989366Z",
     "shell.execute_reply": "2024-04-17T13:04:46.988901Z",
     "shell.execute_reply.started": "2024-04-17T13:04:46.963415Z"
    }
   },
   "outputs": [],
   "source": [
    "arial_filtered_drop_0_cov = arial_filtered[arial_filtered[\"cov\"] != 0]"
   ]
  },
  {
   "cell_type": "code",
   "execution_count": 16,
   "id": "08afdb65-447b-4fd6-8797-d87c071b0921",
   "metadata": {
    "execution": {
     "iopub.execute_input": "2024-04-17T13:04:47.411996Z",
     "iopub.status.busy": "2024-04-17T13:04:47.411607Z",
     "iopub.status.idle": "2024-04-17T13:04:47.422444Z",
     "shell.execute_reply": "2024-04-17T13:04:47.421917Z",
     "shell.execute_reply.started": "2024-04-17T13:04:47.411974Z"
    }
   },
   "outputs": [
    {
     "data": {
      "text/plain": [
       "array([7, 6, 5, 4, 2, 3, 8])"
      ]
     },
     "execution_count": 16,
     "metadata": {},
     "output_type": "execute_result"
    }
   ],
   "source": [
    "bed_1[\"sample size\"].unique()"
   ]
  },
  {
   "cell_type": "code",
   "execution_count": 17,
   "id": "df1935f6-29cb-4f59-b79d-5e0600aa4db9",
   "metadata": {
    "execution": {
     "iopub.execute_input": "2024-04-17T13:04:48.187028Z",
     "iopub.status.busy": "2024-04-17T13:04:48.186650Z",
     "iopub.status.idle": "2024-04-17T13:04:48.193131Z",
     "shell.execute_reply": "2024-04-17T13:04:48.192536Z",
     "shell.execute_reply.started": "2024-04-17T13:04:48.187007Z"
    }
   },
   "outputs": [
    {
     "data": {
      "text/plain": [
       "array([8])"
      ]
     },
     "execution_count": 17,
     "metadata": {},
     "output_type": "execute_result"
    }
   ],
   "source": [
    "arial_filtered_drop_0_cov[\"sample size\"].unique()"
   ]
  },
  {
   "cell_type": "code",
   "execution_count": 18,
   "id": "414c000f-0c71-4de8-b08a-ef01831a0b06",
   "metadata": {
    "execution": {
     "iopub.execute_input": "2024-04-17T13:04:49.291553Z",
     "iopub.status.busy": "2024-04-17T13:04:49.291167Z",
     "iopub.status.idle": "2024-04-17T13:04:49.295281Z",
     "shell.execute_reply": "2024-04-17T13:04:49.294793Z",
     "shell.execute_reply.started": "2024-04-17T13:04:49.291531Z"
    }
   },
   "outputs": [
    {
     "data": {
      "text/plain": [
       "-50280"
      ]
     },
     "execution_count": 18,
     "metadata": {},
     "output_type": "execute_result"
    }
   ],
   "source": [
    "len(bed_1) - len(arial)\n"
   ]
  },
  {
   "cell_type": "code",
   "execution_count": 19,
   "id": "fe6b5721-3268-4bdc-bf69-7d0707b0ce73",
   "metadata": {
    "execution": {
     "iopub.execute_input": "2024-04-17T13:04:50.107650Z",
     "iopub.status.busy": "2024-04-17T13:04:50.107315Z",
     "iopub.status.idle": "2024-04-17T13:04:51.638567Z",
     "shell.execute_reply": "2024-04-17T13:04:51.638003Z",
     "shell.execute_reply.started": "2024-04-17T13:04:50.107631Z"
    }
   },
   "outputs": [
    {
     "name": "stdout",
     "output_type": "stream",
     "text": [
      "diff chr1: -50280\n",
      "diff chr2: -39304\n",
      "diff chr3: -38651\n",
      "diff chr4: -32457\n",
      "diff chr5: -45726\n"
     ]
    }
   ],
   "source": [
    "print(\"diff chr1:\", len(bed[bed[\"#chrom\"] == \"1\"]) - len(arial))\n",
    "print(\"diff chr2:\", len(bed[bed[\"#chrom\"] == \"2\"]) - len(arial2))\n",
    "print(\"diff chr3:\", len(bed[bed[\"#chrom\"] == \"3\"]) - len(arial3))\n",
    "print(\"diff chr4:\", len(bed[bed[\"#chrom\"] == \"4\"]) - len(arial4))\n",
    "print(\"diff chr5:\", len(bed[bed[\"#chrom\"] == \"5\"]) - len(arial5))\n"
   ]
  },
  {
   "cell_type": "code",
   "execution_count": 20,
   "id": "0424dfdc-4ea6-46bb-bb3c-44a2f5ac9803",
   "metadata": {
    "execution": {
     "iopub.execute_input": "2024-04-17T13:04:51.652695Z",
     "iopub.status.busy": "2024-04-17T13:04:51.652443Z",
     "iopub.status.idle": "2024-04-17T13:04:53.172816Z",
     "shell.execute_reply": "2024-04-17T13:04:53.172132Z",
     "shell.execute_reply.started": "2024-04-17T13:04:51.652671Z"
    }
   },
   "outputs": [
    {
     "name": "stdout",
     "output_type": "stream",
     "text": [
      "[7 6 5 4 2 3 8]\n",
      "[8 7 6 5 4 3 2]\n",
      "[5 2 6 8 3 4 7]\n",
      "[5 6 7 8 4 3 2]\n",
      "[4 8 7 5 6 3 2]\n"
     ]
    }
   ],
   "source": [
    "print(bed[bed[\"#chrom\"] == \"1\"][\"sample size\"].unique())\n",
    "print(bed[bed[\"#chrom\"] == \"2\"][\"sample size\"].unique())\n",
    "print(bed[bed[\"#chrom\"] == \"3\"][\"sample size\"].unique())\n",
    "print(bed[bed[\"#chrom\"] == \"4\"][\"sample size\"].unique())\n",
    "print(bed[bed[\"#chrom\"] == \"5\"][\"sample size\"].unique())"
   ]
  },
  {
   "cell_type": "code",
   "execution_count": 103,
   "id": "1e1e27b0-bc7e-461c-9dc9-e1e9b992c625",
   "metadata": {
    "execution": {
     "iopub.execute_input": "2024-04-17T15:43:01.864202Z",
     "iopub.status.busy": "2024-04-17T15:43:01.863600Z",
     "iopub.status.idle": "2024-04-17T15:43:01.879540Z",
     "shell.execute_reply": "2024-04-17T15:43:01.879104Z",
     "shell.execute_reply.started": "2024-04-17T15:43:01.864178Z"
    }
   },
   "outputs": [
    {
     "data": {
      "text/html": [
       "<div>\n",
       "<style scoped>\n",
       "    .dataframe tbody tr th:only-of-type {\n",
       "        vertical-align: middle;\n",
       "    }\n",
       "\n",
       "    .dataframe tbody tr th {\n",
       "        vertical-align: top;\n",
       "    }\n",
       "\n",
       "    .dataframe thead th {\n",
       "        text-align: right;\n",
       "    }\n",
       "</style>\n",
       "<table border=\"1\" class=\"dataframe\">\n",
       "  <thead>\n",
       "    <tr style=\"text-align: right;\">\n",
       "      <th></th>\n",
       "      <th>#chrom</th>\n",
       "      <th>start</th>\n",
       "      <th>end</th>\n",
       "      <th>JSD_bit_</th>\n",
       "      <th>sample size</th>\n",
       "      <th>HMIX_bit_</th>\n",
       "      <th>5mC</th>\n",
       "      <th>C</th>\n",
       "    </tr>\n",
       "  </thead>\n",
       "  <tbody>\n",
       "    <tr>\n",
       "      <th>529</th>\n",
       "      <td>1</td>\n",
       "      <td>18743</td>\n",
       "      <td>18744</td>\n",
       "      <td>0.306</td>\n",
       "      <td>8</td>\n",
       "      <td>0.592</td>\n",
       "      <td>18</td>\n",
       "      <td>3</td>\n",
       "    </tr>\n",
       "    <tr>\n",
       "      <th>686</th>\n",
       "      <td>1</td>\n",
       "      <td>24415</td>\n",
       "      <td>24416</td>\n",
       "      <td>0.600</td>\n",
       "      <td>8</td>\n",
       "      <td>0.706</td>\n",
       "      <td>5</td>\n",
       "      <td>21</td>\n",
       "    </tr>\n",
       "  </tbody>\n",
       "</table>\n",
       "</div>"
      ],
      "text/plain": [
       "    #chrom  start    end  JSD_bit_  sample size  HMIX_bit_  5mC   C\n",
       "529      1  18743  18744     0.306            8      0.592   18   3\n",
       "686      1  24415  24416     0.600            8      0.706    5  21"
      ]
     },
     "execution_count": 103,
     "metadata": {},
     "output_type": "execute_result"
    }
   ],
   "source": [
    "bed_1[bed_1[\"sample size\"] == 8].head(2)"
   ]
  },
  {
   "cell_type": "code",
   "execution_count": 102,
   "id": "56c7c265-dd8c-4979-951d-719d00850bce",
   "metadata": {
    "execution": {
     "iopub.execute_input": "2024-04-17T15:42:54.913635Z",
     "iopub.status.busy": "2024-04-17T15:42:54.913124Z",
     "iopub.status.idle": "2024-04-17T15:42:54.937998Z",
     "shell.execute_reply": "2024-04-17T15:42:54.937572Z",
     "shell.execute_reply.started": "2024-04-17T15:42:54.913615Z"
    }
   },
   "outputs": [
    {
     "data": {
      "text/html": [
       "<div>\n",
       "<style scoped>\n",
       "    .dataframe tbody tr th:only-of-type {\n",
       "        vertical-align: middle;\n",
       "    }\n",
       "\n",
       "    .dataframe tbody tr th {\n",
       "        vertical-align: top;\n",
       "    }\n",
       "\n",
       "    .dataframe thead th {\n",
       "        text-align: right;\n",
       "    }\n",
       "</style>\n",
       "<table border=\"1\" class=\"dataframe\">\n",
       "  <thead>\n",
       "    <tr style=\"text-align: right;\">\n",
       "      <th></th>\n",
       "      <th>#chrom</th>\n",
       "      <th>start</th>\n",
       "      <th>end</th>\n",
       "      <th>JSD_bit_</th>\n",
       "      <th>sample size</th>\n",
       "      <th>HMIX_bit_</th>\n",
       "      <th>cov</th>\n",
       "      <th>m</th>\n",
       "      <th>um</th>\n",
       "    </tr>\n",
       "  </thead>\n",
       "  <tbody>\n",
       "    <tr>\n",
       "      <th>540</th>\n",
       "      <td>1</td>\n",
       "      <td>18743</td>\n",
       "      <td>18744</td>\n",
       "      <td>0.023</td>\n",
       "      <td>8</td>\n",
       "      <td>0.222</td>\n",
       "      <td>641</td>\n",
       "      <td>18</td>\n",
       "      <td>3</td>\n",
       "    </tr>\n",
       "    <tr>\n",
       "      <th>702</th>\n",
       "      <td>1</td>\n",
       "      <td>24415</td>\n",
       "      <td>24416</td>\n",
       "      <td>0.366</td>\n",
       "      <td>8</td>\n",
       "      <td>0.541</td>\n",
       "      <td>233</td>\n",
       "      <td>5</td>\n",
       "      <td>21</td>\n",
       "    </tr>\n",
       "  </tbody>\n",
       "</table>\n",
       "</div>"
      ],
      "text/plain": [
       "     #chrom  start    end  JSD_bit_  sample size  HMIX_bit_  cov   m  um\n",
       "540       1  18743  18744     0.023            8      0.222  641  18   3\n",
       "702       1  24415  24416     0.366            8      0.541  233   5  21"
      ]
     },
     "execution_count": 102,
     "metadata": {},
     "output_type": "execute_result"
    }
   ],
   "source": [
    "arial[arial[\"start\"].isin([18743, 24415]) & arial[\"end\"].isin([18744, 24416])]"
   ]
  },
  {
   "cell_type": "code",
   "execution_count": 111,
   "id": "c2417a69-1f46-442c-a630-62057771ef36",
   "metadata": {
    "execution": {
     "iopub.execute_input": "2024-04-17T15:57:14.955539Z",
     "iopub.status.busy": "2024-04-17T15:57:14.955116Z",
     "iopub.status.idle": "2024-04-17T15:57:14.990387Z",
     "shell.execute_reply": "2024-04-17T15:57:14.989915Z",
     "shell.execute_reply.started": "2024-04-17T15:57:14.955514Z"
    }
   },
   "outputs": [
    {
     "data": {
      "text/html": [
       "<div>\n",
       "<style scoped>\n",
       "    .dataframe tbody tr th:only-of-type {\n",
       "        vertical-align: middle;\n",
       "    }\n",
       "\n",
       "    .dataframe tbody tr th {\n",
       "        vertical-align: top;\n",
       "    }\n",
       "\n",
       "    .dataframe thead th {\n",
       "        text-align: right;\n",
       "    }\n",
       "</style>\n",
       "<table border=\"1\" class=\"dataframe\">\n",
       "  <thead>\n",
       "    <tr style=\"text-align: right;\">\n",
       "      <th></th>\n",
       "      <th>#chrom</th>\n",
       "      <th>start</th>\n",
       "      <th>end</th>\n",
       "      <th>JSD_bit_</th>\n",
       "      <th>sample size</th>\n",
       "      <th>HMIX_bit_</th>\n",
       "      <th>name1</th>\n",
       "      <th>name2</th>\n",
       "      <th>name3</th>\n",
       "    </tr>\n",
       "  </thead>\n",
       "  <tbody>\n",
       "    <tr>\n",
       "      <th>540</th>\n",
       "      <td>1</td>\n",
       "      <td>18743</td>\n",
       "      <td>18744</td>\n",
       "      <td>0.040</td>\n",
       "      <td>8</td>\n",
       "      <td>0.222</td>\n",
       "      <td>641</td>\n",
       "      <td>18</td>\n",
       "      <td>3</td>\n",
       "    </tr>\n",
       "    <tr>\n",
       "      <th>702</th>\n",
       "      <td>1</td>\n",
       "      <td>24415</td>\n",
       "      <td>24416</td>\n",
       "      <td>0.446</td>\n",
       "      <td>8</td>\n",
       "      <td>0.541</td>\n",
       "      <td>233</td>\n",
       "      <td>5</td>\n",
       "      <td>21</td>\n",
       "    </tr>\n",
       "  </tbody>\n",
       "</table>\n",
       "</div>"
      ],
      "text/plain": [
       "     #chrom  start    end  JSD_bit_  sample size  HMIX_bit_  name1  name2  \\\n",
       "540       1  18743  18744     0.040            8      0.222    641     18   \n",
       "702       1  24415  24416     0.446            8      0.541    233      5   \n",
       "\n",
       "     name3  \n",
       "540      3  \n",
       "702     21  "
      ]
     },
     "execution_count": 111,
     "metadata": {},
     "output_type": "execute_result"
    }
   ],
   "source": [
    "new_arial[new_arial[\"start\"].isin([18743, 24415]) & new_arial[\"end\"].isin([18744, 24416])]"
   ]
  },
  {
   "cell_type": "code",
   "execution_count": 21,
   "id": "a3675821-e612-4d32-887e-bc1274263c78",
   "metadata": {
    "execution": {
     "iopub.execute_input": "2024-04-17T13:04:53.174794Z",
     "iopub.status.busy": "2024-04-17T13:04:53.174554Z",
     "iopub.status.idle": "2024-04-17T13:04:53.205653Z",
     "shell.execute_reply": "2024-04-17T13:04:53.205222Z",
     "shell.execute_reply.started": "2024-04-17T13:04:53.174776Z"
    }
   },
   "outputs": [
    {
     "name": "stdout",
     "output_type": "stream",
     "text": [
      "[8]\n",
      "[8]\n",
      "[8]\n",
      "[8]\n",
      "[8]\n"
     ]
    }
   ],
   "source": [
    "print(arial[\"sample size\"].unique())\n",
    "print(arial2[\"sample size\"].unique())\n",
    "print(arial3[\"sample size\"].unique())\n",
    "print(arial4[\"sample size\"].unique())\n",
    "print(arial5[\"sample size\"].unique())\n",
    "\n"
   ]
  },
  {
   "cell_type": "code",
   "execution_count": 114,
   "id": "05595315-495a-43ec-bd10-9433054ca10e",
   "metadata": {
    "execution": {
     "iopub.execute_input": "2024-04-17T10:40:37.249545Z",
     "iopub.status.busy": "2024-04-17T10:40:37.249268Z",
     "iopub.status.idle": "2024-04-17T10:40:37.253793Z",
     "shell.execute_reply": "2024-04-17T10:40:37.253238Z",
     "shell.execute_reply.started": "2024-04-17T10:40:37.249527Z"
    }
   },
   "outputs": [
    {
     "data": {
      "text/plain": [
       "-6331"
      ]
     },
     "execution_count": 114,
     "metadata": {},
     "output_type": "execute_result"
    }
   ],
   "source": [
    "diff = len(bed_1) - len(arial_filtered) \n",
    "diff"
   ]
  },
  {
   "cell_type": "code",
   "execution_count": 115,
   "id": "b13e8596-669d-4025-812e-53dad083ea82",
   "metadata": {
    "execution": {
     "iopub.execute_input": "2024-04-17T10:40:41.008900Z",
     "iopub.status.busy": "2024-04-17T10:40:41.008610Z",
     "iopub.status.idle": "2024-04-17T10:40:41.013158Z",
     "shell.execute_reply": "2024-04-17T10:40:41.012415Z",
     "shell.execute_reply.started": "2024-04-17T10:40:41.008882Z"
    }
   },
   "outputs": [
    {
     "data": {
      "text/plain": [
       "888338"
      ]
     },
     "execution_count": 115,
     "metadata": {},
     "output_type": "execute_result"
    }
   ],
   "source": [
    "diff2 =  len(bed_1) - len(arial_filtered_drop_0_cov)\n",
    "diff2"
   ]
  },
  {
   "cell_type": "code",
   "execution_count": 90,
   "id": "d0557e95-8ed5-46f2-8bdb-03d58a05575a",
   "metadata": {
    "execution": {
     "iopub.execute_input": "2024-04-17T10:17:07.654664Z",
     "iopub.status.busy": "2024-04-17T10:17:07.654398Z",
     "iopub.status.idle": "2024-04-17T10:17:07.710680Z",
     "shell.execute_reply": "2024-04-17T10:17:07.710282Z",
     "shell.execute_reply.started": "2024-04-17T10:17:07.654648Z"
    }
   },
   "outputs": [
    {
     "name": "stdout",
     "output_type": "stream",
     "text": [
      "<class 'pandas.core.frame.DataFrame'>\n",
      "Index: 1263270 entries, 1 to 1307217\n",
      "Data columns (total 8 columns):\n",
      " #   Column       Non-Null Count    Dtype  \n",
      "---  ------       --------------    -----  \n",
      " 0   #chrom       1263270 non-null  string \n",
      " 1   start        1263270 non-null  int64  \n",
      " 2   end          1263270 non-null  int64  \n",
      " 3   JSD_bit_     1263270 non-null  float64\n",
      " 4   sample size  1263270 non-null  int64  \n",
      " 5   HMIX_bit_    1263270 non-null  float64\n",
      " 6   m            1263270 non-null  int64  \n",
      " 7   um           1263270 non-null  int64  \n",
      "dtypes: float64(2), int64(5), string(1)\n",
      "memory usage: 86.7 MB\n"
     ]
    }
   ],
   "source": [
    "arial_filtered_no_cov.info()"
   ]
  },
  {
   "cell_type": "code",
   "execution_count": 110,
   "id": "ae548295-5078-4bbc-a695-c3775be44b1d",
   "metadata": {
    "execution": {
     "iopub.execute_input": "2024-04-17T15:57:11.386157Z",
     "iopub.status.busy": "2024-04-17T15:57:11.385641Z",
     "iopub.status.idle": "2024-04-17T15:57:11.975816Z",
     "shell.execute_reply": "2024-04-17T15:57:11.975262Z",
     "shell.execute_reply.started": "2024-04-17T15:57:11.386122Z"
    }
   },
   "outputs": [],
   "source": [
    "new_arial = pd.read_csv(\"/home/eharpu/shannon/output_results.csv\", sep = \"\\t\")"
   ]
  },
  {
   "cell_type": "code",
   "execution_count": null,
   "id": "9656884a-30cf-422a-9b9a-b01f6b2218b1",
   "metadata": {},
   "outputs": [],
   "source": []
  },
  {
   "cell_type": "code",
   "execution_count": 76,
   "id": "b8c7fd73-6ec9-41f1-b4b7-3aed079d6ba3",
   "metadata": {
    "execution": {
     "iopub.execute_input": "2024-04-17T15:10:12.480439Z",
     "iopub.status.busy": "2024-04-17T15:10:12.480040Z",
     "iopub.status.idle": "2024-04-17T15:10:18.061472Z",
     "shell.execute_reply": "2024-04-17T15:10:18.061003Z",
     "shell.execute_reply.started": "2024-04-17T15:10:12.480419Z"
    }
   },
   "outputs": [],
   "source": [
    "a = pd.read_csv(\"/shares/grossniklaus.botinst.uzh/dkt/scienceCloud/okartal_marcws_processed/processed/SRR448385.count/SRR448385_CHG.bedGraph.gz\", sep = \"\\t\", low_memory = False, header = 0)\n"
   ]
  },
  {
   "cell_type": "code",
   "execution_count": 77,
   "id": "15a1980e-481d-42fb-8091-8d810d12dc3c",
   "metadata": {
    "execution": {
     "iopub.execute_input": "2024-04-17T15:10:18.362752Z",
     "iopub.status.busy": "2024-04-17T15:10:18.362512Z",
     "iopub.status.idle": "2024-04-17T15:11:03.852986Z",
     "shell.execute_reply": "2024-04-17T15:11:03.852281Z",
     "shell.execute_reply.started": "2024-04-17T15:10:18.362728Z"
    }
   },
   "outputs": [],
   "source": [
    "set_a = set()\n",
    "for i in range(len(a)):\n",
    "    set_a.add(a.index[i][0])\n",
    "    \n"
   ]
  },
  {
   "cell_type": "code",
   "execution_count": 78,
   "id": "9fe557ba-6d96-4659-a7ae-99dfc41f2a0a",
   "metadata": {
    "execution": {
     "iopub.execute_input": "2024-04-17T15:11:03.854989Z",
     "iopub.status.busy": "2024-04-17T15:11:03.854711Z",
     "iopub.status.idle": "2024-04-17T15:11:03.859075Z",
     "shell.execute_reply": "2024-04-17T15:11:03.858480Z",
     "shell.execute_reply.started": "2024-04-17T15:11:03.854964Z"
    }
   },
   "outputs": [
    {
     "data": {
      "text/plain": [
       "{'1', '2', '3', '4', '5', 'Mt', 'Pt'}"
      ]
     },
     "execution_count": 78,
     "metadata": {},
     "output_type": "execute_result"
    }
   ],
   "source": [
    "set_a\n"
   ]
  },
  {
   "cell_type": "markdown",
   "id": "68ef04a0-649d-4c8a-bb35-1766146464e9",
   "metadata": {},
   "source": [
    "\turl\n",
    " \n",
    "1 \t/myProcessed/processed/DRR021337.count/DRR021337_CHG.bedGraph.gz\n",
    "2\t/myProcessed/processed/SRR017267.count/SRR017267_CHG.bedGraph.gz\n",
    "3\t/myProcessed/processed/SRR017268.count/SRR017268_CHG.bedGraph.gz\n",
    "4\t/myProcessed/processed/SRR017269.count/SRR017269_CHG.bedGraph.gz\n",
    "5\t/myProcessed/processed/SRR1565344.count/SRR1565344_CHG.bedGraph.gz\n",
    "6\t/myProcessed/processed/SRR2064658.count/SRR2064658_CHG.bedGraph.gz\n",
    "\n",
    "7\t/myProcessed/processed/SRR448384.count/SRR448384_CHG.bedGraph.gz\n",
    "8\t/myProcessed/processed/SRR448385.count/SRR448385_CHG.bedGraph.gz"
   ]
  },
  {
   "cell_type": "code",
   "execution_count": null,
   "id": "14512faa-3e83-4c84-b591-68a18639731c",
   "metadata": {},
   "outputs": [],
   "source": []
  }
 ],
 "metadata": {
  "kernelspec": {
   "display_name": "environment_shannon",
   "language": "python",
   "name": "environment_shannon"
  },
  "language_info": {
   "codemirror_mode": {
    "name": "ipython",
    "version": 3
   },
   "file_extension": ".py",
   "mimetype": "text/x-python",
   "name": "python",
   "nbconvert_exporter": "python",
   "pygments_lexer": "ipython3",
   "version": "3.12.2"
  },
  "widgets": {
   "application/vnd.jupyter.widget-state+json": {
    "state": {},
    "version_major": 2,
    "version_minor": 0
   }
  }
 },
 "nbformat": 4,
 "nbformat_minor": 5
}
